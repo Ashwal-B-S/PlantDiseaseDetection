{
  "nbformat": 4,
  "nbformat_minor": 0,
  "metadata": {
    "colab": {
      "name": "Main_Classifier_Script.ipynb",
      "provenance": [],
      "collapsed_sections": [],
      "authorship_tag": "ABX9TyP00xHaHN/0qYulgtuZ3VdB",
      "include_colab_link": true
    },
    "kernelspec": {
      "name": "python3",
      "display_name": "Python 3"
    },
    "language_info": {
      "name": "python"
    }
  },
  "cells": [
    {
      "cell_type": "markdown",
      "metadata": {
        "id": "view-in-github",
        "colab_type": "text"
      },
      "source": [
        "<a href=\"https://colab.research.google.com/github/Ashwal-B-S/PlantDiseaseDetection/blob/main/Main_Classifier_Script.ipynb\" target=\"_parent\"><img src=\"https://colab.research.google.com/assets/colab-badge.svg\" alt=\"Open In Colab\"/></a>"
      ]
    },
    {
      "cell_type": "markdown",
      "metadata": {
        "id": "ot1048PD4mL9"
      },
      "source": [
        "Getting Dataset"
      ]
    },
    {
      "cell_type": "code",
      "metadata": {
        "colab": {
          "base_uri": "https://localhost:8080/"
        },
        "id": "dGQd93BontXw",
        "outputId": "588eb03d-707f-4282-9366-a894a0ccb4d0"
      },
      "source": [
        "!git clone https://github.com/deepakHonakeri05/yolo_dataset.git"
      ],
      "execution_count": 1,
      "outputs": [
        {
          "output_type": "stream",
          "text": [
            "Cloning into 'yolo_dataset'...\n",
            "remote: Enumerating objects: 36553, done.\u001b[K\n",
            "remote: Total 36553 (delta 0), reused 0 (delta 0), pack-reused 36553\u001b[K\n",
            "Receiving objects: 100% (36553/36553), 632.83 MiB | 28.52 MiB/s, done.\n",
            "Resolving deltas: 100% (221/221), done.\n",
            "Checking out files: 100% (72348/72348), done.\n"
          ],
          "name": "stdout"
        }
      ]
    },
    {
      "cell_type": "code",
      "metadata": {
        "colab": {
          "base_uri": "https://localhost:8080/"
        },
        "id": "7Sm1MY7XnXUf",
        "outputId": "4aac1715-92f4-4193-e805-28f58115953b"
      },
      "source": [
        "from google.colab import drive\n",
        "drive.mount('/content/drive')"
      ],
      "execution_count": 2,
      "outputs": [
        {
          "output_type": "stream",
          "text": [
            "Mounted at /content/drive\n"
          ],
          "name": "stdout"
        }
      ]
    },
    {
      "cell_type": "code",
      "metadata": {
        "id": "gCOI2GlQL0Qk"
      },
      "source": [
        "from tensorflow.keras.applications import ResNet50\n",
        "from tensorflow.python.keras.models import Sequential\n",
        "from tensorflow.python.keras.layers import Dense\n",
        "\n",
        "import numpy as np\n",
        "import pandas as pd\n",
        "\n",
        "import matplotlib.pyplot as plt\n",
        "%matplotlib inline \n",
        "\n",
        "import cv2\n",
        "\n",
        "import os\n",
        "\n",
        "import numpy as np\n",
        "from keras.preprocessing import image"
      ],
      "execution_count": 3,
      "outputs": []
    },
    {
      "cell_type": "code",
      "metadata": {
        "id": "lwEenC6hLV1A",
        "colab": {
          "base_uri": "https://localhost:8080/"
        },
        "outputId": "76d84107-89b4-4440-d87a-e8deae0b8188"
      },
      "source": [
        "# MAIN CLASSIFIER\n",
        "\n",
        "NUM_CLASSES = 8\n",
        "\n",
        "RESNET50_POOLING_AVERAGE = 'avg'\n",
        "DENSE_LAYER_ACTIVATION = 'softmax'\n",
        "OBJECTIVE_FUNCTION = 'categorical_crossentropy'\n",
        "\n",
        "# Common accuracy metric for all outputs, but can use different metrics for different output\n",
        "LOSS_METRICS = ['accuracy']\n",
        "\n",
        "\n",
        "model = Sequential()\n",
        "\n",
        "# 1st layer as the lumpsum weights from resnet50_weights_tf_dim_ordering_tf_kernels_notop.h5\n",
        "# NOTE that this layer will be set below as NOT TRAINABLE, i.e., use it as is\n",
        "model.add(ResNet50(include_top = False, pooling = RESNET50_POOLING_AVERAGE, weights = 'imagenet'))\n",
        "\n",
        "\n",
        "# model.add(Dense(1024, activation = DENSE_LAYER_ACTIVATION))\n",
        "# 2nd layer as Dense for 8-class classification\n",
        "model.add(Dense(NUM_CLASSES, activation = DENSE_LAYER_ACTIVATION))\n",
        "\n",
        "# Say not to train first layer (ResNet) model as it is already trained\n",
        "model.layers[0].trainable = False\n",
        "\n",
        "#compiling\n",
        "model.compile(optimizer = 'adam', loss = OBJECTIVE_FUNCTION, metrics = LOSS_METRICS)\n",
        "\n",
        "# model.load_weights('./peach.h5')\n"
      ],
      "execution_count": 4,
      "outputs": [
        {
          "output_type": "stream",
          "text": [
            "Downloading data from https://storage.googleapis.com/tensorflow/keras-applications/resnet/resnet50_weights_tf_dim_ordering_tf_kernels_notop.h5\n",
            "94773248/94765736 [==============================] - 1s 0us/step\n"
          ],
          "name": "stdout"
        }
      ]
    },
    {
      "cell_type": "code",
      "metadata": {
        "id": "c8P0vqvCL53B",
        "colab": {
          "base_uri": "https://localhost:8080/"
        },
        "outputId": "56a1bf25-ed20-406d-ef0e-b45323f98ef0"
      },
      "source": [
        "model.summary()"
      ],
      "execution_count": 5,
      "outputs": [
        {
          "output_type": "stream",
          "text": [
            "Model: \"sequential\"\n",
            "_________________________________________________________________\n",
            "Layer (type)                 Output Shape              Param #   \n",
            "=================================================================\n",
            "resnet50 (Functional)        (None, 2048)              23587712  \n",
            "_________________________________________________________________\n",
            "dense (Dense)                (None, 8)                 16392     \n",
            "=================================================================\n",
            "Total params: 23,604,104\n",
            "Trainable params: 16,392\n",
            "Non-trainable params: 23,587,712\n",
            "_________________________________________________________________\n"
          ],
          "name": "stdout"
        }
      ]
    },
    {
      "cell_type": "code",
      "metadata": {
        "id": "IRXn2dxJTmFM",
        "colab": {
          "base_uri": "https://localhost:8080/"
        },
        "outputId": "0719ca65-09ed-4e85-d92d-09e123723ce6"
      },
      "source": [
        "from keras.preprocessing.image import ImageDataGenerator\n",
        "\n",
        "train_datagen = ImageDataGenerator(\n",
        "    rotation_range = 270,\n",
        "    brightness_range = (-2,2),\n",
        "        shear_range=0.2,\n",
        "        zoom_range=0.3,\n",
        "    vertical_flip=True,\n",
        "    validation_split=0.3,\n",
        "        horizontal_flip=True)\n",
        "\n",
        "test_datagen = ImageDataGenerator(vertical_flip=True,\n",
        "                                 horizontal_flip=True,\n",
        "                                 rotation_range=180,\n",
        "                                 zoom_range=0.2)\n",
        "\n",
        "val_datagen = ImageDataGenerator(vertical_flip=True,\n",
        "                                 horizontal_flip=True,\n",
        "                                 rotation_range=180,\n",
        "                                 zoom_range=0.2)\n",
        "\n",
        "train_set = train_datagen.flow_from_directory(\n",
        "        'yolo_dataset/Dataset/train/',\n",
        "        target_size=(224,224),\n",
        "        batch_size=64,\n",
        "        seed=101, \n",
        "        shuffle=True,\n",
        "        class_mode='categorical')\n",
        "\n",
        "test_set = test_datagen.flow_from_directory(\n",
        "        'yolo_dataset/Dataset/test/',\n",
        "        target_size=(224, 224),\n",
        "        batch_size=64,\n",
        "        shuffle=True,\n",
        "        seed=101,\n",
        "        class_mode='categorical')\n",
        "\n",
        "# val_set = val_datagen.flow_from_directory(\n",
        "#         'yolo_dataset/pepper/val/',\n",
        "#         target_size=(224, 224),\n",
        "#         batch_size=64,\n",
        "#         shuffle=True,\n",
        "#         seed=101,\n",
        "#         class_mode='categorical')\n",
        "\n",
        "history = model.fit_generator(\n",
        "        train_set,\n",
        "        epochs=10,\n",
        "        validation_data=test_set,\n",
        "        validation_steps=113)\n",
        "\n",
        "\n",
        "model.save_weights(\"/content/drive/My Drive/Leaf_Weights/Weights/MainClassifier.h5\")"
      ],
      "execution_count": 6,
      "outputs": [
        {
          "output_type": "stream",
          "text": [
            "Found 28938 images belonging to 8 classes.\n",
            "Found 7210 images belonging to 8 classes.\n"
          ],
          "name": "stdout"
        },
        {
          "output_type": "stream",
          "text": [
            "/usr/local/lib/python3.7/dist-packages/tensorflow/python/keras/engine/training.py:1940: UserWarning: `Model.fit_generator` is deprecated and will be removed in a future version. Please use `Model.fit`, which supports generators.\n",
            "  warnings.warn('`Model.fit_generator` is deprecated and '\n"
          ],
          "name": "stderr"
        },
        {
          "output_type": "stream",
          "text": [
            "Epoch 1/10\n",
            "453/453 [==============================] - 4401s 10s/step - loss: 1.0809 - accuracy: 0.6714 - val_loss: 0.2108 - val_accuracy: 0.9379\n",
            "Epoch 2/10\n",
            "453/453 [==============================] - 4392s 10s/step - loss: 0.9390 - accuracy: 0.7152 - val_loss: 0.1282 - val_accuracy: 0.9612\n",
            "Epoch 3/10\n",
            "453/453 [==============================] - 4369s 10s/step - loss: 0.9323 - accuracy: 0.7164 - val_loss: 0.1105 - val_accuracy: 0.9653\n",
            "Epoch 4/10\n",
            "453/453 [==============================] - 4351s 10s/step - loss: 0.9120 - accuracy: 0.7245 - val_loss: 0.0802 - val_accuracy: 0.9778\n",
            "Epoch 5/10\n",
            "453/453 [==============================] - 4356s 10s/step - loss: 0.9109 - accuracy: 0.7252 - val_loss: 0.0842 - val_accuracy: 0.9750\n",
            "Epoch 6/10\n",
            "453/453 [==============================] - 4345s 10s/step - loss: 0.9125 - accuracy: 0.7242 - val_loss: 0.0925 - val_accuracy: 0.9706\n",
            "Epoch 7/10\n",
            "453/453 [==============================] - 4333s 10s/step - loss: 0.9073 - accuracy: 0.7247 - val_loss: 0.0730 - val_accuracy: 0.9782\n",
            "Epoch 8/10\n",
            "453/453 [==============================] - 4329s 10s/step - loss: 0.8930 - accuracy: 0.7305 - val_loss: 0.0718 - val_accuracy: 0.9759\n",
            "Epoch 9/10\n",
            "453/453 [==============================] - 4333s 10s/step - loss: 0.8892 - accuracy: 0.7308 - val_loss: 0.0665 - val_accuracy: 0.9792\n",
            "Epoch 10/10\n",
            "453/453 [==============================] - 4331s 10s/step - loss: 0.8955 - accuracy: 0.7296 - val_loss: 0.0778 - val_accuracy: 0.9755\n"
          ],
          "name": "stdout"
        }
      ]
    },
    {
      "cell_type": "code",
      "metadata": {
        "id": "9RNBbwZRbC77",
        "colab": {
          "base_uri": "https://localhost:8080/"
        },
        "outputId": "ea412560-a2a3-403e-d6ae-c0653a160d7d"
      },
      "source": [
        "scores = model.evaluate_generator(generator=test_set)\n",
        "print(\"%s: %.2f%%\" % (model.metrics_names[1], scores[1]*100))"
      ],
      "execution_count": 7,
      "outputs": [
        {
          "output_type": "stream",
          "text": [
            "/usr/local/lib/python3.7/dist-packages/tensorflow/python/keras/engine/training.py:1973: UserWarning: `Model.evaluate_generator` is deprecated and will be removed in a future version. Please use `Model.evaluate`, which supports generators.\n",
            "  warnings.warn('`Model.evaluate_generator` is deprecated and '\n"
          ],
          "name": "stderr"
        },
        {
          "output_type": "stream",
          "text": [
            "accuracy: 97.30%\n"
          ],
          "name": "stdout"
        }
      ]
    },
    {
      "cell_type": "code",
      "metadata": {
        "colab": {
          "base_uri": "https://localhost:8080/"
        },
        "id": "miq8GG9kSxDd",
        "outputId": "add9cba3-102c-418f-93d2-e1e10e34f262"
      },
      "source": [
        "scores"
      ],
      "execution_count": 8,
      "outputs": [
        {
          "output_type": "execute_result",
          "data": {
            "text/plain": [
              "[0.08317120373249054, 0.9729542136192322]"
            ]
          },
          "metadata": {
            "tags": []
          },
          "execution_count": 8
        }
      ]
    },
    {
      "cell_type": "code",
      "metadata": {
        "colab": {
          "base_uri": "https://localhost:8080/"
        },
        "id": "Yp4X7lSMS3gQ",
        "outputId": "fe7176bc-b34b-453c-fe4a-ab28f8f28d48"
      },
      "source": [
        "model.metrics_names"
      ],
      "execution_count": 9,
      "outputs": [
        {
          "output_type": "execute_result",
          "data": {
            "text/plain": [
              "['loss', 'accuracy']"
            ]
          },
          "metadata": {
            "tags": []
          },
          "execution_count": 9
        }
      ]
    },
    {
      "cell_type": "code",
      "metadata": {
        "colab": {
          "base_uri": "https://localhost:8080/"
        },
        "id": "I5rvGUa-S3nR",
        "outputId": "0a17d864-d98b-4042-f4a1-c62e15a6889e"
      },
      "source": [
        "history.history"
      ],
      "execution_count": 10,
      "outputs": [
        {
          "output_type": "execute_result",
          "data": {
            "text/plain": [
              "{'accuracy': [0.6714354753494263,\n",
              "  0.715184211730957,\n",
              "  0.7163936495780945,\n",
              "  0.7245144844055176,\n",
              "  0.725240170955658,\n",
              "  0.7242380380630493,\n",
              "  0.7246527075767517,\n",
              "  0.7305273413658142,\n",
              "  0.7308037877082825,\n",
              "  0.7295942902565002],\n",
              " 'loss': [1.080870509147644,\n",
              "  0.9390035271644592,\n",
              "  0.9322614073753357,\n",
              "  0.9120197892189026,\n",
              "  0.9109252691268921,\n",
              "  0.9125229716300964,\n",
              "  0.9073488116264343,\n",
              "  0.8930007219314575,\n",
              "  0.8892465233802795,\n",
              "  0.8954838514328003],\n",
              " 'val_accuracy': [0.9378640651702881,\n",
              "  0.9611650705337524,\n",
              "  0.9653259515762329,\n",
              "  0.9778085947036743,\n",
              "  0.9750346541404724,\n",
              "  0.9705963730812073,\n",
              "  0.9782246947288513,\n",
              "  0.9758668541908264,\n",
              "  0.9791955351829529,\n",
              "  0.9754507541656494],\n",
              " 'val_loss': [0.2108069658279419,\n",
              "  0.12821564078330994,\n",
              "  0.11052502691745758,\n",
              "  0.08022870868444443,\n",
              "  0.08420999348163605,\n",
              "  0.09252779185771942,\n",
              "  0.07304954528808594,\n",
              "  0.07176275551319122,\n",
              "  0.0665307492017746,\n",
              "  0.0778392031788826]}"
            ]
          },
          "metadata": {
            "tags": []
          },
          "execution_count": 10
        }
      ]
    },
    {
      "cell_type": "code",
      "metadata": {
        "colab": {
          "base_uri": "https://localhost:8080/",
          "height": 265
        },
        "id": "y7hbFv57S3sb",
        "outputId": "ece44dbf-12a4-4111-fa02-3a5ca6747db6"
      },
      "source": [
        "plt.figure(1, figsize = (15,8)) \n",
        "    \n",
        "plt.subplot(221)  \n",
        "plt.plot(history.history['accuracy'])  \n",
        "plt.plot(history.history['val_accuracy'])  \n",
        "plt.title('Peach model accuracy')  \n",
        "plt.ylabel('accuracy')  \n",
        "plt.xlabel('epoch')  \n",
        "plt.legend(['train', 'valid']) \n",
        "    \n",
        "plt.subplot(222)  \n",
        "plt.plot(history.history['loss'])  \n",
        "plt.plot(history.history['val_loss'])  \n",
        "plt.title('Peach model loss')  \n",
        "plt.ylabel('loss')  \n",
        "plt.xlabel('epoch')  \n",
        "plt.legend(['train', 'valid']) \n",
        "\n",
        "plt.show()"
      ],
      "execution_count": 11,
      "outputs": [
        {
          "output_type": "display_data",
          "data": {
            "image/png": "[encoded data removed]",
            "text/plain": [
              "<Figure size 1080x576 with 2 Axes>"
            ]
          },
          "metadata": {
            "tags": [],
            "needs_background": "light"
          }
        }
      ]
    },
    {
      "cell_type": "code",
      "metadata": {
        "colab": {
          "base_uri": "https://localhost:8080/"
        },
        "id": "M5dws7XoTCP9",
        "outputId": "838dc299-2b7a-4f60-b1d8-474e03c613bd"
      },
      "source": [
        "thresh = 0.60\n",
        "test_image = image.load_img('yolo_dataset/Dataset/train/Tomato/tomato_13317.JPG',target_size=(224,224))  \n",
        "test_image = image.img_to_array(test_image)\n",
        "test_image = np.expand_dims(test_image,axis=0)\n",
        "result = model.predict(test_image)\n",
        "\n",
        "train_set.class_indices\n",
        "if result[0][0] >= thresh:\n",
        "     prediction = 'Apple'\n",
        "elif result[0][1] >= thresh :\n",
        "        prediction = 'Cherry'\n",
        "elif result[0][2] >= thresh :\n",
        "        prediction = 'Grape'\n",
        "elif result[0][3] >= thresh :\n",
        "        prediction = 'Peach'    \n",
        "elif result[0][4] >= thresh :\n",
        "        prediction = 'Pepper'\n",
        "elif result[0][5] >= thresh :\n",
        "        prediction = 'Potato'  \n",
        "elif result[0][6] >= thresh :\n",
        "        prediction = 'Strawberry'  \n",
        "else:\n",
        "        prediction = 'Tomato'       \n",
        "\n",
        "\n",
        "print(result)\n",
        "print(prediction)\n",
        "print(max(max(result)))\n",
        "print(min(min(result)))"
      ],
      "execution_count": 12,
      "outputs": [
        {
          "output_type": "stream",
          "text": [
            "[[2.0709271e-03 1.3231557e-08 3.0962797e-04 2.8118081e-04 3.2290354e-05\n",
            "  2.5637462e-07 1.4172166e-04 9.9716407e-01]]\n",
            "Tomato\n",
            "0.9971641\n",
            "1.3231557e-08\n"
          ],
          "name": "stdout"
        }
      ]
    },
    {
      "cell_type": "code",
      "metadata": {
        "colab": {
          "base_uri": "https://localhost:8080/"
        },
        "id": "S-Hz7ksEWcVP",
        "outputId": "a5f8ef3d-f930-450b-bed1-27df59dc989e"
      },
      "source": [
        "thresh = 0.60\n",
        "test_image = image.load_img('yolo_dataset/Dataset/train/Apple/apple_16.JPG',target_size=(224,224))  \n",
        "test_image = image.img_to_array(test_image)\n",
        "test_image = np.expand_dims(test_image,axis=0)\n",
        "result = model.predict(test_image)\n",
        "\n",
        "train_set.class_indices\n",
        "if result[0][0] >= thresh:\n",
        "     prediction = 'Apple'\n",
        "elif result[0][1] >= thresh :\n",
        "        prediction = 'Cherry'\n",
        "elif result[0][2] >= thresh :\n",
        "        prediction = 'Grape'\n",
        "elif result[0][3] >= thresh :\n",
        "        prediction = 'Peach'    \n",
        "elif result[0][4] >= thresh :\n",
        "        prediction = 'Pepper'\n",
        "elif result[0][5] >= thresh :\n",
        "        prediction = 'Potato'  \n",
        "elif result[0][6] >= thresh :\n",
        "        prediction = 'Strawberry'  \n",
        "else:\n",
        "        prediction = 'Tomato'       \n",
        "\n",
        "\n",
        "print(result)\n",
        "print(prediction)\n",
        "print(max(max(result)))\n",
        "print(min(min(result)))"
      ],
      "execution_count": 13,
      "outputs": [
        {
          "output_type": "stream",
          "text": [
            "[[9.7509313e-01 7.4262214e-05 5.8602513e-08 8.1155762e-05 2.4745954e-02\n",
            "  1.0330832e-07 1.8195291e-08 5.3382632e-06]]\n",
            "Apple\n",
            "0.9750931\n",
            "1.819529e-08\n"
          ],
          "name": "stdout"
        }
      ]
    },
    {
      "cell_type": "code",
      "metadata": {
        "colab": {
          "base_uri": "https://localhost:8080/"
        },
        "id": "b_Ed-EifWuwt",
        "outputId": "915bbf0e-2a49-4bc2-d79e-29811b9b2b35"
      },
      "source": [
        "thresh = 0.60\n",
        "test_image = image.load_img('yolo_dataset/Dataset/test/Pepper/pepper_1040.JPG',target_size=(224,224))  \n",
        "test_image = image.img_to_array(test_image)\n",
        "test_image = np.expand_dims(test_image,axis=0)\n",
        "result = model.predict(test_image)\n",
        "\n",
        "train_set.class_indices\n",
        "if result[0][0] >= thresh:\n",
        "     prediction = 'Apple'\n",
        "elif result[0][1] >= thresh :\n",
        "        prediction = 'Cherry'\n",
        "elif result[0][2] >= thresh :\n",
        "        prediction = 'Grape'\n",
        "elif result[0][3] >= thresh :\n",
        "        prediction = 'Peach'    \n",
        "elif result[0][4] >= thresh :\n",
        "        prediction = 'Pepper'\n",
        "elif result[0][5] >= thresh :\n",
        "        prediction = 'Potato'  \n",
        "elif result[0][6] >= thresh :\n",
        "        prediction = 'Strawberry'  \n",
        "else:\n",
        "        prediction = 'Tomato'       \n",
        "\n",
        "\n",
        "print(result)\n",
        "print(prediction)\n",
        "print(max(max(result)))\n",
        "print(min(min(result)))"
      ],
      "execution_count": 14,
      "outputs": [
        {
          "output_type": "stream",
          "text": [
            "[[1.1372506e-07 3.4425791e-06 1.4057072e-08 3.7012345e-05 9.9995697e-01\n",
            "  3.5421063e-08 2.3618046e-10 2.4337344e-06]]\n",
            "Pepper\n",
            "0.99995697\n",
            "2.3618046e-10\n"
          ],
          "name": "stdout"
        }
      ]
    },
    {
      "cell_type": "code",
      "metadata": {
        "id": "Wi_T1OWSXCby"
      },
      "source": [
        ""
      ],
      "execution_count": null,
      "outputs": []
    }
  ]
}