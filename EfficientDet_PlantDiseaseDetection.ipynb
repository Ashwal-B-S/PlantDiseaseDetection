{
  "nbformat": 4,
  "nbformat_minor": 0,
  "metadata": {
    "colab": {
      "name": "EfficientDet_PlantDiseaseDetection.ipynb",
      "provenance": [],
      "collapsed_sections": [],
      "authorship_tag": "ABX9TyMeienclBkL97+ZQIEDdMi+",
      "include_colab_link": true
    },
    "kernelspec": {
      "name": "python3",
      "display_name": "Python 3"
    },
    "language_info": {
      "name": "python"
    },
    "accelerator": "GPU"
  },
  "cells": [
    {
      "cell_type": "markdown",
      "metadata": {
        "id": "view-in-github",
        "colab_type": "text"
      },
      "source": [
        "<a href=\"https://colab.research.google.com/github/Ashwal-B-S/PlantDiseaseDetection/blob/main/EfficientDet_PlantDiseaseDetection.ipynb\" target=\"_parent\"><img src=\"https://colab.research.google.com/assets/colab-badge.svg\" alt=\"Open In Colab\"/></a>"
      ]
    },
    {
      "cell_type": "code",
      "metadata": {
        "colab": {
          "base_uri": "https://localhost:8080/"
        },
        "id": "1DqUa8eqyeU-",
        "outputId": "65f40d01-564f-484d-aeb3-49dd5932bc69"
      },
      "source": [
        "from google.colab import drive\n",
        "drive.mount('/content/drive')"
      ],
      "execution_count": null,
      "outputs": [
        {
          "output_type": "stream",
          "text": [
            "Mounted at /content/drive\n"
          ],
          "name": "stdout"
        }
      ]
    },
    {
      "cell_type": "code",
      "metadata": {
        "colab": {
          "base_uri": "https://localhost:8080/"
        },
        "id": "4WqdrrFV0VtH",
        "outputId": "b831f258-6463-47bd-ac84-e8e611102712"
      },
      "source": [
        "%cd /content/drive/MyDrive/EfficientDetModeling/input/\n",
        "!ls"
      ],
      "execution_count": null,
      "outputs": [
        {
          "output_type": "stream",
          "text": [
            "/content/drive/MyDrive/EfficientNetModeling/input\n",
            "plantdisease\n"
          ],
          "name": "stdout"
        }
      ]
    },
    {
      "cell_type": "code",
      "metadata": {
        "colab": {
          "base_uri": "https://localhost:8080/"
        },
        "id": "YoJXWdJH3QaV",
        "outputId": "7ba18a5f-8ced-4c20-aa74-c4bbfe99f808"
      },
      "source": [
        "%cd /content/drive/MyDrive/EfficientDetModeling/working/\n",
        "!ls"
      ],
      "execution_count": null,
      "outputs": [
        {
          "output_type": "stream",
          "text": [
            "/content/drive/MyDrive/EfficientNetModeling/working\n",
            "EfficientNet-PyTorch\n"
          ],
          "name": "stdout"
        }
      ]
    },
    {
      "cell_type": "code",
      "metadata": {
        "colab": {
          "base_uri": "https://localhost:8080/"
        },
        "id": "5cijtj0K0KR1",
        "outputId": "b6ac576c-6e07-4d89-8e18-94018106f9ee"
      },
      "source": [
        "# !git clone https://github.com/lukemelas/EfficientDet-PyTorch\n",
        "# %cd ./EfficientDet-PyTorch\n",
        "# !pip install -e "
      ],
      "execution_count": null,
      "outputs": [
        {
          "output_type": "stream",
          "text": [
            "fatal: destination path 'EfficientNet-PyTorch' already exists and is not an empty directory.\n",
            "/content/drive/MyDrive/EfficientNetModeling/working/EfficientNet-PyTorch/EfficientNet-PyTorch\n",
            "\n",
            "Usage:   \n",
            "  pip3 install [options] <requirement specifier> [package-index-options] ...\n",
            "  pip3 install [options] -r <requirements file> [package-index-options] ...\n",
            "  pip3 install [options] [-e] <vcs project url> ...\n",
            "  pip3 install [options] [-e] <local project path> ...\n",
            "  pip3 install [options] <archive url/path> ...\n",
            "\n",
            "-e option requires 1 argument\n"
          ],
          "name": "stdout"
        }
      ]
    },
    {
      "cell_type": "code",
      "metadata": {
        "id": "GQ9upA1Oy3-Y"
      },
      "source": [
        "from PIL import Image\n",
        "import matplotlib\n",
        "import matplotlib.pyplot as plt\n",
        "from matplotlib.pyplot import imshow\n",
        "\n",
        "import torch\n",
        "import torch.nn as nn\n",
        "import torch.nn.functional as F\n",
        "import torch.optim as optim\n",
        "from torch.optim import lr_scheduler\n",
        "import torchvision\n",
        "from torchvision import datasets\n",
        "from torchvision import transforms\n",
        "from torch.utils.data import DataLoader\n",
        "\n",
        "from sklearn.model_selection import train_test_split\n",
        "from torch.utils.data import Subset\n",
        "\n",
        "import numpy as np\n",
        "import random\n",
        "import time\n",
        "import copy"
      ],
      "execution_count": null,
      "outputs": []
    },
    {
      "cell_type": "code",
      "metadata": {
        "colab": {
          "base_uri": "https://localhost:8080/"
        },
        "id": "dIIx7wcly7mm",
        "outputId": "74dee776-4e55-46bb-f4c6-d8a1f0b33a55"
      },
      "source": [
        "import torch\n",
        "\n",
        "if torch.cuda.is_available():\n",
        "  print(\"GPU available\")\n",
        "  torch.backends.cudnn.deterministic = True\n",
        "\n",
        "print(torch.cuda.is_available())\n",
        "\n",
        "# !nvidia-smi # gpu 확인"
      ],
      "execution_count": null,
      "outputs": [
        {
          "output_type": "stream",
          "text": [
            "GPU available\n",
            "True\n"
          ],
          "name": "stdout"
        }
      ]
    },
    {
      "cell_type": "code",
      "metadata": {
        "colab": {
          "base_uri": "https://localhost:8080/"
        },
        "id": "0cLe4Ci4zOKN",
        "outputId": "448ec81a-2663-46d4-d90f-319d75f1cf9b"
      },
      "source": [
        "!nvidia-smi # gpu 확인"
      ],
      "execution_count": null,
      "outputs": [
        {
          "output_type": "stream",
          "text": [
            "Sat Jul 31 19:04:50 2021       \n",
            "+-----------------------------------------------------------------------------+\n",
            "| NVIDIA-SMI 470.42.01    Driver Version: 460.32.03    CUDA Version: 11.2     |\n",
            "|-------------------------------+----------------------+----------------------+\n",
            "| GPU  Name        Persistence-M| Bus-Id        Disp.A | Volatile Uncorr. ECC |\n",
            "| Fan  Temp  Perf  Pwr:Usage/Cap|         Memory-Usage | GPU-Util  Compute M. |\n",
            "|                               |                      |               MIG M. |\n",
            "|===============================+======================+======================|\n",
            "|   0  Tesla V100-SXM2...  Off  | 00000000:00:04.0 Off |                    0 |\n",
            "| N/A   38C    P0    24W / 300W |      2MiB / 16160MiB |      0%      Default |\n",
            "|                               |                      |                  N/A |\n",
            "+-------------------------------+----------------------+----------------------+\n",
            "                                                                               \n",
            "+-----------------------------------------------------------------------------+\n",
            "| Processes:                                                                  |\n",
            "|  GPU   GI   CI        PID   Type   Process name                  GPU Memory |\n",
            "|        ID   ID                                                   Usage      |\n",
            "|=============================================================================|\n",
            "|  No running processes found                                                 |\n",
            "+-----------------------------------------------------------------------------+\n"
          ],
          "name": "stdout"
        }
      ]
    },
    {
      "cell_type": "code",
      "metadata": {
        "id": "pbN2JaAgzVLo"
      },
      "source": [
        "batch_size = 64\n",
        "\n",
        "data_path = '/content/drive/MyDrive/PlantVillageDataset_MyDataset/PlantVillage'\n",
        "leaf_datasets = datasets.ImageFolder(\n",
        "    data_path,\n",
        "    transforms.Compose([\n",
        "        transforms.Resize((224, 224)),\n",
        "        transforms.ToTensor(),\n",
        "        transforms.Normalize(mean=[0.485, 0.456, 0.406], std=[0.229, 0.224, 0.225]),\n",
        "    ])\n",
        ")"
      ],
      "execution_count": null,
      "outputs": []
    },
    {
      "cell_type": "code",
      "metadata": {
        "id": "YKHMAp7T0GV4"
      },
      "source": [
        "random_seed = 33\n",
        "random.seed(random_seed)\n",
        "torch.manual_seed(random_seed)\n",
        "\n",
        "dataset = {}\n",
        "\n",
        "train_idx, valtest_idx = train_test_split(list(range(len(leaf_datasets))), test_size=0.4, random_state=random_seed)\n",
        "dataset['train'] = Subset(leaf_datasets, train_idx)\n",
        "valtest          = Subset(leaf_datasets, valtest_idx)\n",
        "\n",
        "\n",
        "val_idx, test_idx = train_test_split(list(range(len(valtest))), test_size=0.5, random_state=random_seed)\n",
        "dataset['valid'] = Subset(valtest, val_idx)\n",
        "dataset['test']  = Subset(valtest, test_idx)"
      ],
      "execution_count": null,
      "outputs": []
    },
    {
      "cell_type": "code",
      "metadata": {
        "colab": {
          "base_uri": "https://localhost:8080/"
        },
        "id": "qnunamii40Wl",
        "outputId": "09871d22-987d-4c3f-e461-8eb59e33f4a7"
      },
      "source": [
        "print(len(dataset['train']))\n",
        "print(len(dataset['valid']))"
      ],
      "execution_count": null,
      "outputs": [
        {
          "output_type": "stream",
          "text": [
            "12400\n",
            "4134\n"
          ],
          "name": "stdout"
        }
      ]
    },
    {
      "cell_type": "code",
      "metadata": {
        "colab": {
          "base_uri": "https://localhost:8080/"
        },
        "id": "VyUjnykC44Ln",
        "outputId": "c1048e45-7c32-437b-ffc2-fc2a51765eb5"
      },
      "source": [
        "dataloaders, batch_num = {}, {}\n",
        "dataloaders['train'] = DataLoader(dataset['train'],\n",
        "                                  batch_size=batch_size, shuffle=True,\n",
        "                                  num_workers=8)\n",
        "dataloaders['valid'] = DataLoader(dataset['valid'],\n",
        "                                  batch_size=batch_size, shuffle=True,\n",
        "                                  num_workers=8)\n",
        "dataloaders['test'] = DataLoader(dataset['test'],\n",
        "                                  batch_size=batch_size, shuffle=True,\n",
        "                                  num_workers=8)\n",
        "\n",
        "\n",
        "batch_num['train'], batch_num['valid'], batch_num['test'] = len(dataloaders['train']), len(dataloaders['valid']), len(dataloaders['test'])\n",
        "print('batch_size : %d,  test/valid : %d / %d / %d' % (batch_size, batch_num['train'], batch_num['valid'], batch_num['test']))"
      ],
      "execution_count": null,
      "outputs": [
        {
          "output_type": "stream",
          "text": [
            "batch_size : 64,  test/valid : 194 / 65 / 65\n"
          ],
          "name": "stdout"
        },
        {
          "output_type": "stream",
          "text": [
            "/usr/local/lib/python3.7/dist-packages/torch/utils/data/dataloader.py:481: UserWarning: This DataLoader will create 8 worker processes in total. Our suggested max number of worker in current system is 2, which is smaller than what this DataLoader is going to create. Please be aware that excessive worker creation might get DataLoader running slow or even freeze, lower the worker number to avoid potential slowness/freeze if necessary.\n",
            "  cpuset_checked))\n"
          ],
          "name": "stderr"
        }
      ]
    },
    {
      "cell_type": "code",
      "metadata": {
        "colab": {
          "base_uri": "https://localhost:8080/",
          "height": 290
        },
        "id": "Y-mB14xO5JIP",
        "outputId": "5a5bcdc6-f3a7-4e3f-8e6c-ea9883d03a2b"
      },
      "source": [
        "count = np.zeros(15)\n",
        "\n",
        "for images, labels in dataloaders['train']:  \n",
        "    for a in labels:\n",
        "      count[a.numpy()] += 1\n",
        "\n",
        "print(count)\n",
        "\n",
        "\n",
        "v_count = np.zeros(15)\n",
        "\n",
        "for images, labels in dataloaders['valid']:  \n",
        "    for a in labels:\n",
        "      v_count[a.numpy()] += 1\n",
        "\n",
        "print(v_count)"
      ],
      "execution_count": null,
      "outputs": [
        {
          "output_type": "stream",
          "text": [
            "/usr/local/lib/python3.7/dist-packages/torch/utils/data/dataloader.py:481: UserWarning: This DataLoader will create 8 worker processes in total. Our suggested max number of worker in current system is 2, which is smaller than what this DataLoader is going to create. Please be aware that excessive worker creation might get DataLoader running slow or even freeze, lower the worker number to avoid potential slowness/freeze if necessary.\n",
            "  cpuset_checked))\n"
          ],
          "name": "stderr"
        },
        {
          "output_type": "error",
          "ename": "KeyboardInterrupt",
          "evalue": "ignored",
          "traceback": [
            "\u001b[0;31m---------------------------------------------------------------------------\u001b[0m",
            "\u001b[0;31mKeyboardInterrupt\u001b[0m                         Traceback (most recent call last)",
            "\u001b[0;32m<ipython-input-13-61842dd9e026>\u001b[0m in \u001b[0;36m<module>\u001b[0;34m()\u001b[0m\n\u001b[1;32m      1\u001b[0m \u001b[0mcount\u001b[0m \u001b[0;34m=\u001b[0m \u001b[0mnp\u001b[0m\u001b[0;34m.\u001b[0m\u001b[0mzeros\u001b[0m\u001b[0;34m(\u001b[0m\u001b[0;36m15\u001b[0m\u001b[0;34m)\u001b[0m\u001b[0;34m\u001b[0m\u001b[0;34m\u001b[0m\u001b[0m\n\u001b[1;32m      2\u001b[0m \u001b[0;34m\u001b[0m\u001b[0m\n\u001b[0;32m----> 3\u001b[0;31m \u001b[0;32mfor\u001b[0m \u001b[0mimages\u001b[0m\u001b[0;34m,\u001b[0m \u001b[0mlabels\u001b[0m \u001b[0;32min\u001b[0m \u001b[0mdataloaders\u001b[0m\u001b[0;34m[\u001b[0m\u001b[0;34m'train'\u001b[0m\u001b[0;34m]\u001b[0m\u001b[0;34m:\u001b[0m\u001b[0;34m\u001b[0m\u001b[0;34m\u001b[0m\u001b[0m\n\u001b[0m\u001b[1;32m      4\u001b[0m     \u001b[0;32mfor\u001b[0m \u001b[0ma\u001b[0m \u001b[0;32min\u001b[0m \u001b[0mlabels\u001b[0m\u001b[0;34m:\u001b[0m\u001b[0;34m\u001b[0m\u001b[0;34m\u001b[0m\u001b[0m\n\u001b[1;32m      5\u001b[0m       \u001b[0mcount\u001b[0m\u001b[0;34m[\u001b[0m\u001b[0ma\u001b[0m\u001b[0;34m.\u001b[0m\u001b[0mnumpy\u001b[0m\u001b[0;34m(\u001b[0m\u001b[0;34m)\u001b[0m\u001b[0;34m]\u001b[0m \u001b[0;34m+=\u001b[0m \u001b[0;36m1\u001b[0m\u001b[0;34m\u001b[0m\u001b[0;34m\u001b[0m\u001b[0m\n",
            "\u001b[0;31mKeyboardInterrupt\u001b[0m: "
          ]
        }
      ]
    },
    {
      "cell_type": "code",
      "metadata": {
        "colab": {
          "base_uri": "https://localhost:8080/",
          "height": 376
        },
        "id": "M3plX0HB5Nyz",
        "outputId": "3f99619d-6790-406f-d92f-442cfed46361"
      },
      "source": [
        "imgtest = None\n",
        "for images, labels in dataloaders['train']:  \n",
        "    imgtest = images[3]\n",
        "    print(imgtest.shape)\n",
        "    break\n",
        "\n",
        "imgtest = imgtest.numpy()\n",
        "imgtest = np.moveaxis(imgtest, 0, -1)\n",
        "imshow(imgtest)"
      ],
      "execution_count": null,
      "outputs": [
        {
          "output_type": "stream",
          "text": [
            "/usr/local/lib/python3.7/dist-packages/torch/utils/data/dataloader.py:481: UserWarning: This DataLoader will create 8 worker processes in total. Our suggested max number of worker in current system is 2, which is smaller than what this DataLoader is going to create. Please be aware that excessive worker creation might get DataLoader running slow or even freeze, lower the worker number to avoid potential slowness/freeze if necessary.\n",
            "  cpuset_checked))\n"
          ],
          "name": "stderr"
        },
        {
          "output_type": "stream",
          "text": [
            "torch.Size([3, 224, 224])\n"
          ],
          "name": "stdout"
        },
        {
          "output_type": "stream",
          "text": [
            "Clipping input data to the valid range for imshow with RGB data ([0..1] for floats or [0..255] for integers).\n"
          ],
          "name": "stderr"
        },
        {
          "output_type": "execute_result",
          "data": {
            "text/plain": [
              "<matplotlib.image.AxesImage at 0x7f86bf302cd0>"
            ]
          },
          "metadata": {
            "tags": []
          },
          "execution_count": 11
        },
        {
          "output_type": "display_data",
          "data": {
            "image/png": "[encoded data removed]",
            "text/plain": [
              "<Figure size 432x288 with 1 Axes>"
            ]
          },
          "metadata": {
            "tags": [],
            "needs_background": "light"
          }
        }
      ]
    },
    {
      "cell_type": "code",
      "metadata": {
        "colab": {
          "base_uri": "https://localhost:8080/"
        },
        "id": "dbt8IUaz5Wk6",
        "outputId": "8d06861e-dd33-46fc-e817-6ce405a892c9"
      },
      "source": [
        "%cd /content/drive/MyDrive/EfficientDetModeling/working/EfficientDet-PyTorch\n",
        "\n",
        "from efficientdet_pytorch import EfficientDet\n",
        "# model = EfficientDet.from_pretrained('efficientdet-b0', num_classes=15)\n",
        "model = EfficientDet.from_name('efficientdet-b0', num_classes=15)\n",
        "\n",
        "for param in model.parameters():\n",
        "    param.requires_grad = True\n",
        "\n",
        "dev = torch.device(\"cuda\") "
      ],
      "execution_count": null,
      "outputs": [
        {
          "output_type": "stream",
          "text": [
            "/content/drive/MyDrive/EfficientNetModeling/working/EfficientNet-PyTorch\n"
          ],
          "name": "stdout"
        }
      ]
    },
    {
      "cell_type": "code",
      "metadata": {
        "id": "xxENNYCN6EX2"
      },
      "source": [
        "model = model.to(dev)\n",
        "\n",
        "optimizer = optim.SGD(model.parameters(), \n",
        "                         lr = 0.0005,\n",
        "                         momentum=0.9,\n",
        "                         weight_decay=1e-4)\n",
        "\n",
        "criterion = nn.CrossEntropyLoss()"
      ],
      "execution_count": null,
      "outputs": []
    },
    {
      "cell_type": "code",
      "metadata": {
        "colab": {
          "base_uri": "https://localhost:8080/"
        },
        "id": "l0V2wwFt6I_c",
        "outputId": "63b8d2ee-78b1-4399-f166-25b110bf4f3a"
      },
      "source": [
        "num_epochs = 70\n",
        "trn_loss_list, val_loss_list, trn_acc_list, val_acc_list = [], [], [], []\n",
        "best_acc = 0.0\n",
        "\n",
        "since = time.time()\n",
        "best_model = copy.deepcopy(model.state_dict())\n",
        "\n",
        "\n",
        "for epoch in range(num_epochs):    \n",
        "    trn_loss, trn_corrects, val_loss, val_corrects = 0.0, 0, 0.0, 0\n",
        "    \n",
        "    model.train()\n",
        "    for i, (data, target) in enumerate(dataloaders['train']):\n",
        "        data, target = data.to(dev), target.to(dev)\n",
        "\n",
        "        optimizer.zero_grad()\n",
        "        output = model(data)                \n",
        "    \n",
        "        loss = criterion(output, target)\n",
        "        loss.backward()\n",
        "        \n",
        "        optimizer.step()  \n",
        "        \n",
        "        _, preds = torch.max(output, 1)\n",
        "        trn_corrects += torch.sum(preds == target.data)\n",
        "        trn_loss += loss.item()\n",
        "\n",
        "    model.eval()\n",
        "    with torch.no_grad():\n",
        "        for j, (val_data, val_target) in enumerate(dataloaders['valid']):\n",
        "            val_data, val_target = val_data.to(dev), val_target.to(dev)\n",
        "            \n",
        "            val_output = model(val_data)\n",
        "            v_loss = criterion(val_output, val_target)\n",
        "            \n",
        "            _, preds = torch.max(val_output, 1)\n",
        "            val_corrects += torch.sum(preds == val_target.data)\n",
        "            val_loss += v_loss.item()\n",
        "\n",
        "\n",
        "    trn_acc_list.append(trn_corrects * 0.008)\n",
        "    val_acc_list.append(val_corrects * 0.0242)\n",
        "    trn_loss_list.append(trn_loss/batch_num['train'])\n",
        "    val_loss_list.append(val_loss/batch_num['valid'])\n",
        "\n",
        "    time_elapsed = time.time() - since\n",
        "    print(\"epoch: {}/{} | trn loss: {:.4f} | val loss: {:.4f} | {:.0f}m {:.0f}s elapsed\".format(\n",
        "                epoch+1, num_epochs, trn_loss / batch_num['train'], val_loss / batch_num['valid'], \n",
        "                time_elapsed // 60, time_elapsed % 60))\n",
        "\n",
        "    if val_corrects * 0.0242 > best_acc:\n",
        "      best_acc = val_corrects * 0.0242\n",
        "      best_model = copy.deepcopy(model.state_dict())\n",
        "      print(\"best model updated-epoch: {} | val_accuracy: {:.4f}\".format(epoch+1, best_acc))\n",
        "\n",
        "\n",
        "time_elapsed = time.time() - since\n",
        "print('Training complete in {:.0f}m {:.0f}s'.format(time_elapsed // 60, time_elapsed % 60))\n",
        "print('Best valid Acc: %.1f' %(best_acc))\n",
        "\n",
        "model.load_state_dict(best_model)\n",
        "torch.save(model.state_dict(), '/content/drive/MyDrive/EfficientDetModeling/working/best_model.pt')\n",
        "print(\"model saved\")"
      ],
      "execution_count": null,
      "outputs": [
        {
          "output_type": "stream",
          "text": [
            "/usr/local/lib/python3.7/dist-packages/torch/utils/data/dataloader.py:481: UserWarning: This DataLoader will create 8 worker processes in total. Our suggested max number of worker in current system is 2, which is smaller than what this DataLoader is going to create. Please be aware that excessive worker creation might get DataLoader running slow or even freeze, lower the worker number to avoid potential slowness/freeze if necessary.\n",
            "  cpuset_checked))\n"
          ],
          "name": "stderr"
        },
        {
          "output_type": "stream",
          "text": [
            "epoch: 1/70 | trn loss: 2.4568 | val loss: 2.6392 | 18m 46s elapsed\n",
            "best model updated-epoch: 1 | val_accuracy: 16.3108\n",
            "epoch: 2/70 | trn loss: 2.2362 | val loss: 2.6986 | 19m 53s elapsed\n",
            "epoch: 3/70 | trn loss: 1.9828 | val loss: 2.6725 | 20m 60s elapsed\n",
            "best model updated-epoch: 3 | val_accuracy: 23.7644\n",
            "epoch: 4/70 | trn loss: 1.6878 | val loss: 1.4998 | 22m 8s elapsed\n",
            "best model updated-epoch: 4 | val_accuracy: 50.1666\n",
            "epoch: 5/70 | trn loss: 1.4453 | val loss: 1.2600 | 23m 15s elapsed\n",
            "best model updated-epoch: 5 | val_accuracy: 57.5476\n",
            "epoch: 6/70 | trn loss: 1.2676 | val loss: 1.1408 | 24m 22s elapsed\n",
            "best model updated-epoch: 6 | val_accuracy: 60.9598\n",
            "epoch: 7/70 | trn loss: 1.1307 | val loss: 0.9818 | 25m 29s elapsed\n",
            "best model updated-epoch: 7 | val_accuracy: 66.9130\n",
            "epoch: 8/70 | trn loss: 0.9997 | val loss: 0.9168 | 26m 37s elapsed\n",
            "best model updated-epoch: 8 | val_accuracy: 69.3088\n",
            "epoch: 9/70 | trn loss: 0.8943 | val loss: 0.8329 | 27m 44s elapsed\n",
            "best model updated-epoch: 9 | val_accuracy: 70.2042\n",
            "epoch: 10/70 | trn loss: 0.7870 | val loss: 0.8171 | 28m 52s elapsed\n",
            "best model updated-epoch: 10 | val_accuracy: 71.0754\n",
            "epoch: 11/70 | trn loss: 0.7049 | val loss: 0.6652 | 29m 60s elapsed\n",
            "best model updated-epoch: 11 | val_accuracy: 76.3994\n",
            "epoch: 12/70 | trn loss: 0.6225 | val loss: 0.5781 | 31m 7s elapsed\n",
            "best model updated-epoch: 12 | val_accuracy: 80.2472\n",
            "epoch: 13/70 | trn loss: 0.5733 | val loss: 0.6924 | 32m 15s elapsed\n",
            "epoch: 14/70 | trn loss: 0.5081 | val loss: 0.7354 | 33m 24s elapsed\n",
            "epoch: 15/70 | trn loss: 0.4549 | val loss: 0.4647 | 34m 31s elapsed\n",
            "best model updated-epoch: 15 | val_accuracy: 84.9420\n",
            "epoch: 16/70 | trn loss: 0.4096 | val loss: 0.5646 | 35m 39s elapsed\n",
            "epoch: 17/70 | trn loss: 0.3629 | val loss: 0.4021 | 36m 47s elapsed\n",
            "best model updated-epoch: 17 | val_accuracy: 87.3136\n",
            "epoch: 18/70 | trn loss: 0.3393 | val loss: 0.3945 | 37m 55s elapsed\n",
            "epoch: 19/70 | trn loss: 0.2980 | val loss: 0.4674 | 39m 3s elapsed\n",
            "epoch: 20/70 | trn loss: 0.2763 | val loss: 0.3774 | 40m 11s elapsed\n",
            "best model updated-epoch: 20 | val_accuracy: 87.4104\n",
            "epoch: 21/70 | trn loss: 0.2536 | val loss: 0.4726 | 41m 19s elapsed\n",
            "epoch: 22/70 | trn loss: 0.2297 | val loss: 0.4659 | 42m 27s elapsed\n",
            "epoch: 23/70 | trn loss: 0.2164 | val loss: 0.4884 | 43m 35s elapsed\n",
            "epoch: 24/70 | trn loss: 0.2002 | val loss: 0.3857 | 44m 43s elapsed\n",
            "best model updated-epoch: 24 | val_accuracy: 87.7008\n",
            "epoch: 25/70 | trn loss: 0.1978 | val loss: 0.3793 | 45m 51s elapsed\n",
            "best model updated-epoch: 25 | val_accuracy: 87.7976\n",
            "epoch: 26/70 | trn loss: 0.1705 | val loss: 0.4403 | 46m 59s elapsed\n",
            "epoch: 27/70 | trn loss: 0.1579 | val loss: 0.3068 | 48m 7s elapsed\n",
            "best model updated-epoch: 27 | val_accuracy: 89.9272\n",
            "epoch: 28/70 | trn loss: 0.1491 | val loss: 0.4136 | 49m 16s elapsed\n",
            "epoch: 29/70 | trn loss: 0.1472 | val loss: 0.4640 | 50m 24s elapsed\n",
            "epoch: 30/70 | trn loss: 0.1457 | val loss: 0.3803 | 51m 32s elapsed\n",
            "epoch: 31/70 | trn loss: 0.1319 | val loss: 0.2953 | 52m 40s elapsed\n",
            "best model updated-epoch: 31 | val_accuracy: 90.6290\n",
            "epoch: 32/70 | trn loss: 0.1211 | val loss: 0.3273 | 53m 48s elapsed\n",
            "epoch: 33/70 | trn loss: 0.1272 | val loss: 0.3456 | 54m 57s elapsed\n",
            "epoch: 34/70 | trn loss: 0.1191 | val loss: 0.3204 | 56m 5s elapsed\n",
            "epoch: 35/70 | trn loss: 0.1075 | val loss: 0.2789 | 57m 14s elapsed\n",
            "best model updated-epoch: 35 | val_accuracy: 91.5002\n",
            "epoch: 36/70 | trn loss: 0.0992 | val loss: 0.3756 | 58m 22s elapsed\n",
            "epoch: 37/70 | trn loss: 0.0960 | val loss: 0.3048 | 59m 30s elapsed\n",
            "epoch: 38/70 | trn loss: 0.0985 | val loss: 0.3371 | 60m 39s elapsed\n",
            "epoch: 39/70 | trn loss: 0.0912 | val loss: 0.2816 | 61m 47s elapsed\n",
            "epoch: 40/70 | trn loss: 0.0864 | val loss: 0.3402 | 62m 55s elapsed\n",
            "epoch: 41/70 | trn loss: 0.0853 | val loss: 0.2919 | 64m 3s elapsed\n",
            "epoch: 42/70 | trn loss: 0.0841 | val loss: 0.3346 | 65m 11s elapsed\n",
            "epoch: 43/70 | trn loss: 0.0846 | val loss: 0.3220 | 66m 19s elapsed\n",
            "epoch: 44/70 | trn loss: 0.0822 | val loss: 0.2823 | 67m 27s elapsed\n",
            "epoch: 45/70 | trn loss: 0.0775 | val loss: 0.2848 | 68m 35s elapsed\n",
            "epoch: 46/70 | trn loss: 0.0706 | val loss: 0.3923 | 69m 44s elapsed\n",
            "epoch: 47/70 | trn loss: 0.0752 | val loss: 0.2891 | 70m 52s elapsed\n",
            "best model updated-epoch: 47 | val_accuracy: 91.7180\n",
            "epoch: 48/70 | trn loss: 0.0698 | val loss: 0.2827 | 72m 0s elapsed\n",
            "epoch: 49/70 | trn loss: 0.0664 | val loss: 0.2609 | 73m 9s elapsed\n",
            "best model updated-epoch: 49 | val_accuracy: 92.3956\n",
            "epoch: 50/70 | trn loss: 0.0622 | val loss: 0.2855 | 74m 17s elapsed\n",
            "epoch: 51/70 | trn loss: 0.0647 | val loss: 0.3136 | 75m 26s elapsed\n",
            "epoch: 52/70 | trn loss: 0.0589 | val loss: 0.2522 | 76m 34s elapsed\n",
            "best model updated-epoch: 52 | val_accuracy: 92.9522\n",
            "epoch: 53/70 | trn loss: 0.0610 | val loss: 0.2487 | 77m 42s elapsed\n",
            "epoch: 54/70 | trn loss: 0.0594 | val loss: 0.2762 | 78m 51s elapsed\n",
            "epoch: 55/70 | trn loss: 0.0562 | val loss: 0.2460 | 79m 59s elapsed\n",
            "epoch: 56/70 | trn loss: 0.0530 | val loss: 0.2559 | 81m 7s elapsed\n",
            "epoch: 57/70 | trn loss: 0.0526 | val loss: 0.3227 | 82m 17s elapsed\n",
            "epoch: 58/70 | trn loss: 0.0459 | val loss: 0.3261 | 83m 25s elapsed\n",
            "epoch: 59/70 | trn loss: 0.0498 | val loss: 0.3207 | 84m 33s elapsed\n",
            "epoch: 60/70 | trn loss: 0.0508 | val loss: 0.2847 | 85m 41s elapsed\n",
            "epoch: 61/70 | trn loss: 0.0521 | val loss: 0.2627 | 86m 50s elapsed\n",
            "epoch: 62/70 | trn loss: 0.0411 | val loss: 0.2740 | 87m 59s elapsed\n",
            "epoch: 63/70 | trn loss: 0.0483 | val loss: 0.2852 | 89m 7s elapsed\n",
            "epoch: 64/70 | trn loss: 0.0409 | val loss: 0.2490 | 90m 16s elapsed\n",
            "epoch: 65/70 | trn loss: 0.0377 | val loss: 0.2508 | 91m 24s elapsed\n",
            "epoch: 66/70 | trn loss: 0.0454 | val loss: 0.3062 | 92m 33s elapsed\n",
            "epoch: 67/70 | trn loss: 0.0421 | val loss: 0.2935 | 93m 41s elapsed\n",
            "epoch: 68/70 | trn loss: 0.0424 | val loss: 0.3380 | 94m 50s elapsed\n",
            "epoch: 69/70 | trn loss: 0.0492 | val loss: 0.2375 | 95m 58s elapsed\n",
            "best model updated-epoch: 69 | val_accuracy: 93.3152\n",
            "epoch: 70/70 | trn loss: 0.0379 | val loss: 0.2767 | 97m 6s elapsed\n",
            "Training complete in 97m 6s\n",
            "Best valid Acc: 93.3\n",
            "model saved\n"
          ],
          "name": "stdout"
        }
      ]
    },
    {
      "cell_type": "code",
      "metadata": {
        "colab": {
          "base_uri": "https://localhost:8080/",
          "height": 283
        },
        "id": "hivmgX_S6Qy6",
        "outputId": "a7bbae87-3172-4336-ccef-1dbec5ed3ad1"
      },
      "source": [
        "plt.plot(trn_loss_list, label='train_loss')\n",
        "plt.plot(val_loss_list, label='val_loss')\n",
        "plt.legend()"
      ],
      "execution_count": null,
      "outputs": [
        {
          "output_type": "execute_result",
          "data": {
            "text/plain": [
              "<matplotlib.legend.Legend at 0x7f8644b90e50>"
            ]
          },
          "metadata": {
            "tags": []
          },
          "execution_count": 15
        },
        {
          "output_type": "display_data",
          "data": {
            "image/png": "[encoded data removed]",
            "text/plain": [
              "<Figure size 432x288 with 1 Axes>"
            ]
          },
          "metadata": {
            "tags": [],
            "needs_background": "light"
          }
        }
      ]
    },
    {
      "cell_type": "code",
      "metadata": {
        "colab": {
          "base_uri": "https://localhost:8080/",
          "height": 283
        },
        "id": "y8KoXo446Yjs",
        "outputId": "b0c4ccac-7e38-4a65-fbf0-fb9aeb5e8ad4"
      },
      "source": [
        "plt.plot(trn_acc_list, label='train_acc')\n",
        "plt.plot(val_acc_list, label='val_acc')\n",
        "plt.legend()"
      ],
      "execution_count": null,
      "outputs": [
        {
          "output_type": "execute_result",
          "data": {
            "text/plain": [
              "<matplotlib.legend.Legend at 0x7f8644ba67d0>"
            ]
          },
          "metadata": {
            "tags": []
          },
          "execution_count": 16
        },
        {
          "output_type": "display_data",
          "data": {
            "image/png": "[encoded data removed]",
            "text/plain": [
              "<Figure size 432x288 with 1 Axes>"
            ]
          },
          "metadata": {
            "tags": [],
            "needs_background": "light"
          }
        }
      ]
    },
    {
      "cell_type": "code",
      "metadata": {
        "colab": {
          "base_uri": "https://localhost:8080/"
        },
        "id": "2o46ZaP46mxQ",
        "outputId": "266ae9d0-27e4-4d8d-d401-bd769d78b60f"
      },
      "source": [
        "best_model = EfficientDet.from_name('efficientdet-b0', num_classes=15)\n",
        "best_model.load_state_dict(torch.load('/content/drive/MyDrive/EfficientDetModeling/working/best_model.pt'))\n",
        "\n",
        "best_model.to(dev)"
      ],
      "execution_count": null,
      "outputs": [
        {
          "output_type": "execute_result",
          "data": {
            "text/plain": [
              "EfficientNet(\n",
              "  (_conv_stem): Conv2dStaticSamePadding(\n",
              "    3, 32, kernel_size=(3, 3), stride=(2, 2), bias=False\n",
              "    (static_padding): ZeroPad2d(padding=(0, 1, 0, 1), value=0.0)\n",
              "  )\n",
              "  (_bn0): BatchNorm2d(32, eps=0.001, momentum=0.010000000000000009, affine=True, track_running_stats=True)\n",
              "  (_blocks): ModuleList(\n",
              "    (0): MBConvBlock(\n",
              "      (_depthwise_conv): Conv2dStaticSamePadding(\n",
              "        32, 32, kernel_size=(3, 3), stride=[1, 1], groups=32, bias=False\n",
              "        (static_padding): ZeroPad2d(padding=(1, 1, 1, 1), value=0.0)\n",
              "      )\n",
              "      (_bn1): BatchNorm2d(32, eps=0.001, momentum=0.010000000000000009, affine=True, track_running_stats=True)\n",
              "      (_se_reduce): Conv2dStaticSamePadding(\n",
              "        32, 8, kernel_size=(1, 1), stride=(1, 1)\n",
              "        (static_padding): Identity()\n",
              "      )\n",
              "      (_se_expand): Conv2dStaticSamePadding(\n",
              "        8, 32, kernel_size=(1, 1), stride=(1, 1)\n",
              "        (static_padding): Identity()\n",
              "      )\n",
              "      (_project_conv): Conv2dStaticSamePadding(\n",
              "        32, 16, kernel_size=(1, 1), stride=(1, 1), bias=False\n",
              "        (static_padding): Identity()\n",
              "      )\n",
              "      (_bn2): BatchNorm2d(16, eps=0.001, momentum=0.010000000000000009, affine=True, track_running_stats=True)\n",
              "      (_swish): MemoryEfficientSwish()\n",
              "    )\n",
              "    (1): MBConvBlock(\n",
              "      (_expand_conv): Conv2dStaticSamePadding(\n",
              "        16, 96, kernel_size=(1, 1), stride=(1, 1), bias=False\n",
              "        (static_padding): Identity()\n",
              "      )\n",
              "      (_bn0): BatchNorm2d(96, eps=0.001, momentum=0.010000000000000009, affine=True, track_running_stats=True)\n",
              "      (_depthwise_conv): Conv2dStaticSamePadding(\n",
              "        96, 96, kernel_size=(3, 3), stride=[2, 2], groups=96, bias=False\n",
              "        (static_padding): ZeroPad2d(padding=(0, 1, 0, 1), value=0.0)\n",
              "      )\n",
              "      (_bn1): BatchNorm2d(96, eps=0.001, momentum=0.010000000000000009, affine=True, track_running_stats=True)\n",
              "      (_se_reduce): Conv2dStaticSamePadding(\n",
              "        96, 4, kernel_size=(1, 1), stride=(1, 1)\n",
              "        (static_padding): Identity()\n",
              "      )\n",
              "      (_se_expand): Conv2dStaticSamePadding(\n",
              "        4, 96, kernel_size=(1, 1), stride=(1, 1)\n",
              "        (static_padding): Identity()\n",
              "      )\n",
              "      (_project_conv): Conv2dStaticSamePadding(\n",
              "        96, 24, kernel_size=(1, 1), stride=(1, 1), bias=False\n",
              "        (static_padding): Identity()\n",
              "      )\n",
              "      (_bn2): BatchNorm2d(24, eps=0.001, momentum=0.010000000000000009, affine=True, track_running_stats=True)\n",
              "      (_swish): MemoryEfficientSwish()\n",
              "    )\n",
              "    (2): MBConvBlock(\n",
              "      (_expand_conv): Conv2dStaticSamePadding(\n",
              "        24, 144, kernel_size=(1, 1), stride=(1, 1), bias=False\n",
              "        (static_padding): Identity()\n",
              "      )\n",
              "      (_bn0): BatchNorm2d(144, eps=0.001, momentum=0.010000000000000009, affine=True, track_running_stats=True)\n",
              "      (_depthwise_conv): Conv2dStaticSamePadding(\n",
              "        144, 144, kernel_size=(3, 3), stride=(1, 1), groups=144, bias=False\n",
              "        (static_padding): ZeroPad2d(padding=(1, 1, 1, 1), value=0.0)\n",
              "      )\n",
              "      (_bn1): BatchNorm2d(144, eps=0.001, momentum=0.010000000000000009, affine=True, track_running_stats=True)\n",
              "      (_se_reduce): Conv2dStaticSamePadding(\n",
              "        144, 6, kernel_size=(1, 1), stride=(1, 1)\n",
              "        (static_padding): Identity()\n",
              "      )\n",
              "      (_se_expand): Conv2dStaticSamePadding(\n",
              "        6, 144, kernel_size=(1, 1), stride=(1, 1)\n",
              "        (static_padding): Identity()\n",
              "      )\n",
              "      (_project_conv): Conv2dStaticSamePadding(\n",
              "        144, 24, kernel_size=(1, 1), stride=(1, 1), bias=False\n",
              "        (static_padding): Identity()\n",
              "      )\n",
              "      (_bn2): BatchNorm2d(24, eps=0.001, momentum=0.010000000000000009, affine=True, track_running_stats=True)\n",
              "      (_swish): MemoryEfficientSwish()\n",
              "    )\n",
              "    (3): MBConvBlock(\n",
              "      (_expand_conv): Conv2dStaticSamePadding(\n",
              "        24, 144, kernel_size=(1, 1), stride=(1, 1), bias=False\n",
              "        (static_padding): Identity()\n",
              "      )\n",
              "      (_bn0): BatchNorm2d(144, eps=0.001, momentum=0.010000000000000009, affine=True, track_running_stats=True)\n",
              "      (_depthwise_conv): Conv2dStaticSamePadding(\n",
              "        144, 144, kernel_size=(5, 5), stride=[2, 2], groups=144, bias=False\n",
              "        (static_padding): ZeroPad2d(padding=(1, 2, 1, 2), value=0.0)\n",
              "      )\n",
              "      (_bn1): BatchNorm2d(144, eps=0.001, momentum=0.010000000000000009, affine=True, track_running_stats=True)\n",
              "      (_se_reduce): Conv2dStaticSamePadding(\n",
              "        144, 6, kernel_size=(1, 1), stride=(1, 1)\n",
              "        (static_padding): Identity()\n",
              "      )\n",
              "      (_se_expand): Conv2dStaticSamePadding(\n",
              "        6, 144, kernel_size=(1, 1), stride=(1, 1)\n",
              "        (static_padding): Identity()\n",
              "      )\n",
              "      (_project_conv): Conv2dStaticSamePadding(\n",
              "        144, 40, kernel_size=(1, 1), stride=(1, 1), bias=False\n",
              "        (static_padding): Identity()\n",
              "      )\n",
              "      (_bn2): BatchNorm2d(40, eps=0.001, momentum=0.010000000000000009, affine=True, track_running_stats=True)\n",
              "      (_swish): MemoryEfficientSwish()\n",
              "    )\n",
              "    (4): MBConvBlock(\n",
              "      (_expand_conv): Conv2dStaticSamePadding(\n",
              "        40, 240, kernel_size=(1, 1), stride=(1, 1), bias=False\n",
              "        (static_padding): Identity()\n",
              "      )\n",
              "      (_bn0): BatchNorm2d(240, eps=0.001, momentum=0.010000000000000009, affine=True, track_running_stats=True)\n",
              "      (_depthwise_conv): Conv2dStaticSamePadding(\n",
              "        240, 240, kernel_size=(5, 5), stride=(1, 1), groups=240, bias=False\n",
              "        (static_padding): ZeroPad2d(padding=(2, 2, 2, 2), value=0.0)\n",
              "      )\n",
              "      (_bn1): BatchNorm2d(240, eps=0.001, momentum=0.010000000000000009, affine=True, track_running_stats=True)\n",
              "      (_se_reduce): Conv2dStaticSamePadding(\n",
              "        240, 10, kernel_size=(1, 1), stride=(1, 1)\n",
              "        (static_padding): Identity()\n",
              "      )\n",
              "      (_se_expand): Conv2dStaticSamePadding(\n",
              "        10, 240, kernel_size=(1, 1), stride=(1, 1)\n",
              "        (static_padding): Identity()\n",
              "      )\n",
              "      (_project_conv): Conv2dStaticSamePadding(\n",
              "        240, 40, kernel_size=(1, 1), stride=(1, 1), bias=False\n",
              "        (static_padding): Identity()\n",
              "      )\n",
              "      (_bn2): BatchNorm2d(40, eps=0.001, momentum=0.010000000000000009, affine=True, track_running_stats=True)\n",
              "      (_swish): MemoryEfficientSwish()\n",
              "    )\n",
              "    (5): MBConvBlock(\n",
              "      (_expand_conv): Conv2dStaticSamePadding(\n",
              "        40, 240, kernel_size=(1, 1), stride=(1, 1), bias=False\n",
              "        (static_padding): Identity()\n",
              "      )\n",
              "      (_bn0): BatchNorm2d(240, eps=0.001, momentum=0.010000000000000009, affine=True, track_running_stats=True)\n",
              "      (_depthwise_conv): Conv2dStaticSamePadding(\n",
              "        240, 240, kernel_size=(3, 3), stride=[2, 2], groups=240, bias=False\n",
              "        (static_padding): ZeroPad2d(padding=(0, 1, 0, 1), value=0.0)\n",
              "      )\n",
              "      (_bn1): BatchNorm2d(240, eps=0.001, momentum=0.010000000000000009, affine=True, track_running_stats=True)\n",
              "      (_se_reduce): Conv2dStaticSamePadding(\n",
              "        240, 10, kernel_size=(1, 1), stride=(1, 1)\n",
              "        (static_padding): Identity()\n",
              "      )\n",
              "      (_se_expand): Conv2dStaticSamePadding(\n",
              "        10, 240, kernel_size=(1, 1), stride=(1, 1)\n",
              "        (static_padding): Identity()\n",
              "      )\n",
              "      (_project_conv): Conv2dStaticSamePadding(\n",
              "        240, 80, kernel_size=(1, 1), stride=(1, 1), bias=False\n",
              "        (static_padding): Identity()\n",
              "      )\n",
              "      (_bn2): BatchNorm2d(80, eps=0.001, momentum=0.010000000000000009, affine=True, track_running_stats=True)\n",
              "      (_swish): MemoryEfficientSwish()\n",
              "    )\n",
              "    (6): MBConvBlock(\n",
              "      (_expand_conv): Conv2dStaticSamePadding(\n",
              "        80, 480, kernel_size=(1, 1), stride=(1, 1), bias=False\n",
              "        (static_padding): Identity()\n",
              "      )\n",
              "      (_bn0): BatchNorm2d(480, eps=0.001, momentum=0.010000000000000009, affine=True, track_running_stats=True)\n",
              "      (_depthwise_conv): Conv2dStaticSamePadding(\n",
              "        480, 480, kernel_size=(3, 3), stride=(1, 1), groups=480, bias=False\n",
              "        (static_padding): ZeroPad2d(padding=(1, 1, 1, 1), value=0.0)\n",
              "      )\n",
              "      (_bn1): BatchNorm2d(480, eps=0.001, momentum=0.010000000000000009, affine=True, track_running_stats=True)\n",
              "      (_se_reduce): Conv2dStaticSamePadding(\n",
              "        480, 20, kernel_size=(1, 1), stride=(1, 1)\n",
              "        (static_padding): Identity()\n",
              "      )\n",
              "      (_se_expand): Conv2dStaticSamePadding(\n",
              "        20, 480, kernel_size=(1, 1), stride=(1, 1)\n",
              "        (static_padding): Identity()\n",
              "      )\n",
              "      (_project_conv): Conv2dStaticSamePadding(\n",
              "        480, 80, kernel_size=(1, 1), stride=(1, 1), bias=False\n",
              "        (static_padding): Identity()\n",
              "      )\n",
              "      (_bn2): BatchNorm2d(80, eps=0.001, momentum=0.010000000000000009, affine=True, track_running_stats=True)\n",
              "      (_swish): MemoryEfficientSwish()\n",
              "    )\n",
              "    (7): MBConvBlock(\n",
              "      (_expand_conv): Conv2dStaticSamePadding(\n",
              "        80, 480, kernel_size=(1, 1), stride=(1, 1), bias=False\n",
              "        (static_padding): Identity()\n",
              "      )\n",
              "      (_bn0): BatchNorm2d(480, eps=0.001, momentum=0.010000000000000009, affine=True, track_running_stats=True)\n",
              "      (_depthwise_conv): Conv2dStaticSamePadding(\n",
              "        480, 480, kernel_size=(3, 3), stride=(1, 1), groups=480, bias=False\n",
              "        (static_padding): ZeroPad2d(padding=(1, 1, 1, 1), value=0.0)\n",
              "      )\n",
              "      (_bn1): BatchNorm2d(480, eps=0.001, momentum=0.010000000000000009, affine=True, track_running_stats=True)\n",
              "      (_se_reduce): Conv2dStaticSamePadding(\n",
              "        480, 20, kernel_size=(1, 1), stride=(1, 1)\n",
              "        (static_padding): Identity()\n",
              "      )\n",
              "      (_se_expand): Conv2dStaticSamePadding(\n",
              "        20, 480, kernel_size=(1, 1), stride=(1, 1)\n",
              "        (static_padding): Identity()\n",
              "      )\n",
              "      (_project_conv): Conv2dStaticSamePadding(\n",
              "        480, 80, kernel_size=(1, 1), stride=(1, 1), bias=False\n",
              "        (static_padding): Identity()\n",
              "      )\n",
              "      (_bn2): BatchNorm2d(80, eps=0.001, momentum=0.010000000000000009, affine=True, track_running_stats=True)\n",
              "      (_swish): MemoryEfficientSwish()\n",
              "    )\n",
              "    (8): MBConvBlock(\n",
              "      (_expand_conv): Conv2dStaticSamePadding(\n",
              "        80, 480, kernel_size=(1, 1), stride=(1, 1), bias=False\n",
              "        (static_padding): Identity()\n",
              "      )\n",
              "      (_bn0): BatchNorm2d(480, eps=0.001, momentum=0.010000000000000009, affine=True, track_running_stats=True)\n",
              "      (_depthwise_conv): Conv2dStaticSamePadding(\n",
              "        480, 480, kernel_size=(5, 5), stride=[1, 1], groups=480, bias=False\n",
              "        (static_padding): ZeroPad2d(padding=(2, 2, 2, 2), value=0.0)\n",
              "      )\n",
              "      (_bn1): BatchNorm2d(480, eps=0.001, momentum=0.010000000000000009, affine=True, track_running_stats=True)\n",
              "      (_se_reduce): Conv2dStaticSamePadding(\n",
              "        480, 20, kernel_size=(1, 1), stride=(1, 1)\n",
              "        (static_padding): Identity()\n",
              "      )\n",
              "      (_se_expand): Conv2dStaticSamePadding(\n",
              "        20, 480, kernel_size=(1, 1), stride=(1, 1)\n",
              "        (static_padding): Identity()\n",
              "      )\n",
              "      (_project_conv): Conv2dStaticSamePadding(\n",
              "        480, 112, kernel_size=(1, 1), stride=(1, 1), bias=False\n",
              "        (static_padding): Identity()\n",
              "      )\n",
              "      (_bn2): BatchNorm2d(112, eps=0.001, momentum=0.010000000000000009, affine=True, track_running_stats=True)\n",
              "      (_swish): MemoryEfficientSwish()\n",
              "    )\n",
              "    (9): MBConvBlock(\n",
              "      (_expand_conv): Conv2dStaticSamePadding(\n",
              "        112, 672, kernel_size=(1, 1), stride=(1, 1), bias=False\n",
              "        (static_padding): Identity()\n",
              "      )\n",
              "      (_bn0): BatchNorm2d(672, eps=0.001, momentum=0.010000000000000009, affine=True, track_running_stats=True)\n",
              "      (_depthwise_conv): Conv2dStaticSamePadding(\n",
              "        672, 672, kernel_size=(5, 5), stride=(1, 1), groups=672, bias=False\n",
              "        (static_padding): ZeroPad2d(padding=(2, 2, 2, 2), value=0.0)\n",
              "      )\n",
              "      (_bn1): BatchNorm2d(672, eps=0.001, momentum=0.010000000000000009, affine=True, track_running_stats=True)\n",
              "      (_se_reduce): Conv2dStaticSamePadding(\n",
              "        672, 28, kernel_size=(1, 1), stride=(1, 1)\n",
              "        (static_padding): Identity()\n",
              "      )\n",
              "      (_se_expand): Conv2dStaticSamePadding(\n",
              "        28, 672, kernel_size=(1, 1), stride=(1, 1)\n",
              "        (static_padding): Identity()\n",
              "      )\n",
              "      (_project_conv): Conv2dStaticSamePadding(\n",
              "        672, 112, kernel_size=(1, 1), stride=(1, 1), bias=False\n",
              "        (static_padding): Identity()\n",
              "      )\n",
              "      (_bn2): BatchNorm2d(112, eps=0.001, momentum=0.010000000000000009, affine=True, track_running_stats=True)\n",
              "      (_swish): MemoryEfficientSwish()\n",
              "    )\n",
              "    (10): MBConvBlock(\n",
              "      (_expand_conv): Conv2dStaticSamePadding(\n",
              "        112, 672, kernel_size=(1, 1), stride=(1, 1), bias=False\n",
              "        (static_padding): Identity()\n",
              "      )\n",
              "      (_bn0): BatchNorm2d(672, eps=0.001, momentum=0.010000000000000009, affine=True, track_running_stats=True)\n",
              "      (_depthwise_conv): Conv2dStaticSamePadding(\n",
              "        672, 672, kernel_size=(5, 5), stride=(1, 1), groups=672, bias=False\n",
              "        (static_padding): ZeroPad2d(padding=(2, 2, 2, 2), value=0.0)\n",
              "      )\n",
              "      (_bn1): BatchNorm2d(672, eps=0.001, momentum=0.010000000000000009, affine=True, track_running_stats=True)\n",
              "      (_se_reduce): Conv2dStaticSamePadding(\n",
              "        672, 28, kernel_size=(1, 1), stride=(1, 1)\n",
              "        (static_padding): Identity()\n",
              "      )\n",
              "      (_se_expand): Conv2dStaticSamePadding(\n",
              "        28, 672, kernel_size=(1, 1), stride=(1, 1)\n",
              "        (static_padding): Identity()\n",
              "      )\n",
              "      (_project_conv): Conv2dStaticSamePadding(\n",
              "        672, 112, kernel_size=(1, 1), stride=(1, 1), bias=False\n",
              "        (static_padding): Identity()\n",
              "      )\n",
              "      (_bn2): BatchNorm2d(112, eps=0.001, momentum=0.010000000000000009, affine=True, track_running_stats=True)\n",
              "      (_swish): MemoryEfficientSwish()\n",
              "    )\n",
              "    (11): MBConvBlock(\n",
              "      (_expand_conv): Conv2dStaticSamePadding(\n",
              "        112, 672, kernel_size=(1, 1), stride=(1, 1), bias=False\n",
              "        (static_padding): Identity()\n",
              "      )\n",
              "      (_bn0): BatchNorm2d(672, eps=0.001, momentum=0.010000000000000009, affine=True, track_running_stats=True)\n",
              "      (_depthwise_conv): Conv2dStaticSamePadding(\n",
              "        672, 672, kernel_size=(5, 5), stride=[2, 2], groups=672, bias=False\n",
              "        (static_padding): ZeroPad2d(padding=(1, 2, 1, 2), value=0.0)\n",
              "      )\n",
              "      (_bn1): BatchNorm2d(672, eps=0.001, momentum=0.010000000000000009, affine=True, track_running_stats=True)\n",
              "      (_se_reduce): Conv2dStaticSamePadding(\n",
              "        672, 28, kernel_size=(1, 1), stride=(1, 1)\n",
              "        (static_padding): Identity()\n",
              "      )\n",
              "      (_se_expand): Conv2dStaticSamePadding(\n",
              "        28, 672, kernel_size=(1, 1), stride=(1, 1)\n",
              "        (static_padding): Identity()\n",
              "      )\n",
              "      (_project_conv): Conv2dStaticSamePadding(\n",
              "        672, 192, kernel_size=(1, 1), stride=(1, 1), bias=False\n",
              "        (static_padding): Identity()\n",
              "      )\n",
              "      (_bn2): BatchNorm2d(192, eps=0.001, momentum=0.010000000000000009, affine=True, track_running_stats=True)\n",
              "      (_swish): MemoryEfficientSwish()\n",
              "    )\n",
              "    (12): MBConvBlock(\n",
              "      (_expand_conv): Conv2dStaticSamePadding(\n",
              "        192, 1152, kernel_size=(1, 1), stride=(1, 1), bias=False\n",
              "        (static_padding): Identity()\n",
              "      )\n",
              "      (_bn0): BatchNorm2d(1152, eps=0.001, momentum=0.010000000000000009, affine=True, track_running_stats=True)\n",
              "      (_depthwise_conv): Conv2dStaticSamePadding(\n",
              "        1152, 1152, kernel_size=(5, 5), stride=(1, 1), groups=1152, bias=False\n",
              "        (static_padding): ZeroPad2d(padding=(2, 2, 2, 2), value=0.0)\n",
              "      )\n",
              "      (_bn1): BatchNorm2d(1152, eps=0.001, momentum=0.010000000000000009, affine=True, track_running_stats=True)\n",
              "      (_se_reduce): Conv2dStaticSamePadding(\n",
              "        1152, 48, kernel_size=(1, 1), stride=(1, 1)\n",
              "        (static_padding): Identity()\n",
              "      )\n",
              "      (_se_expand): Conv2dStaticSamePadding(\n",
              "        48, 1152, kernel_size=(1, 1), stride=(1, 1)\n",
              "        (static_padding): Identity()\n",
              "      )\n",
              "      (_project_conv): Conv2dStaticSamePadding(\n",
              "        1152, 192, kernel_size=(1, 1), stride=(1, 1), bias=False\n",
              "        (static_padding): Identity()\n",
              "      )\n",
              "      (_bn2): BatchNorm2d(192, eps=0.001, momentum=0.010000000000000009, affine=True, track_running_stats=True)\n",
              "      (_swish): MemoryEfficientSwish()\n",
              "    )\n",
              "    (13): MBConvBlock(\n",
              "      (_expand_conv): Conv2dStaticSamePadding(\n",
              "        192, 1152, kernel_size=(1, 1), stride=(1, 1), bias=False\n",
              "        (static_padding): Identity()\n",
              "      )\n",
              "      (_bn0): BatchNorm2d(1152, eps=0.001, momentum=0.010000000000000009, affine=True, track_running_stats=True)\n",
              "      (_depthwise_conv): Conv2dStaticSamePadding(\n",
              "        1152, 1152, kernel_size=(5, 5), stride=(1, 1), groups=1152, bias=False\n",
              "        (static_padding): ZeroPad2d(padding=(2, 2, 2, 2), value=0.0)\n",
              "      )\n",
              "      (_bn1): BatchNorm2d(1152, eps=0.001, momentum=0.010000000000000009, affine=True, track_running_stats=True)\n",
              "      (_se_reduce): Conv2dStaticSamePadding(\n",
              "        1152, 48, kernel_size=(1, 1), stride=(1, 1)\n",
              "        (static_padding): Identity()\n",
              "      )\n",
              "      (_se_expand): Conv2dStaticSamePadding(\n",
              "        48, 1152, kernel_size=(1, 1), stride=(1, 1)\n",
              "        (static_padding): Identity()\n",
              "      )\n",
              "      (_project_conv): Conv2dStaticSamePadding(\n",
              "        1152, 192, kernel_size=(1, 1), stride=(1, 1), bias=False\n",
              "        (static_padding): Identity()\n",
              "      )\n",
              "      (_bn2): BatchNorm2d(192, eps=0.001, momentum=0.010000000000000009, affine=True, track_running_stats=True)\n",
              "      (_swish): MemoryEfficientSwish()\n",
              "    )\n",
              "    (14): MBConvBlock(\n",
              "      (_expand_conv): Conv2dStaticSamePadding(\n",
              "        192, 1152, kernel_size=(1, 1), stride=(1, 1), bias=False\n",
              "        (static_padding): Identity()\n",
              "      )\n",
              "      (_bn0): BatchNorm2d(1152, eps=0.001, momentum=0.010000000000000009, affine=True, track_running_stats=True)\n",
              "      (_depthwise_conv): Conv2dStaticSamePadding(\n",
              "        1152, 1152, kernel_size=(5, 5), stride=(1, 1), groups=1152, bias=False\n",
              "        (static_padding): ZeroPad2d(padding=(2, 2, 2, 2), value=0.0)\n",
              "      )\n",
              "      (_bn1): BatchNorm2d(1152, eps=0.001, momentum=0.010000000000000009, affine=True, track_running_stats=True)\n",
              "      (_se_reduce): Conv2dStaticSamePadding(\n",
              "        1152, 48, kernel_size=(1, 1), stride=(1, 1)\n",
              "        (static_padding): Identity()\n",
              "      )\n",
              "      (_se_expand): Conv2dStaticSamePadding(\n",
              "        48, 1152, kernel_size=(1, 1), stride=(1, 1)\n",
              "        (static_padding): Identity()\n",
              "      )\n",
              "      (_project_conv): Conv2dStaticSamePadding(\n",
              "        1152, 192, kernel_size=(1, 1), stride=(1, 1), bias=False\n",
              "        (static_padding): Identity()\n",
              "      )\n",
              "      (_bn2): BatchNorm2d(192, eps=0.001, momentum=0.010000000000000009, affine=True, track_running_stats=True)\n",
              "      (_swish): MemoryEfficientSwish()\n",
              "    )\n",
              "    (15): MBConvBlock(\n",
              "      (_expand_conv): Conv2dStaticSamePadding(\n",
              "        192, 1152, kernel_size=(1, 1), stride=(1, 1), bias=False\n",
              "        (static_padding): Identity()\n",
              "      )\n",
              "      (_bn0): BatchNorm2d(1152, eps=0.001, momentum=0.010000000000000009, affine=True, track_running_stats=True)\n",
              "      (_depthwise_conv): Conv2dStaticSamePadding(\n",
              "        1152, 1152, kernel_size=(3, 3), stride=[1, 1], groups=1152, bias=False\n",
              "        (static_padding): ZeroPad2d(padding=(1, 1, 1, 1), value=0.0)\n",
              "      )\n",
              "      (_bn1): BatchNorm2d(1152, eps=0.001, momentum=0.010000000000000009, affine=True, track_running_stats=True)\n",
              "      (_se_reduce): Conv2dStaticSamePadding(\n",
              "        1152, 48, kernel_size=(1, 1), stride=(1, 1)\n",
              "        (static_padding): Identity()\n",
              "      )\n",
              "      (_se_expand): Conv2dStaticSamePadding(\n",
              "        48, 1152, kernel_size=(1, 1), stride=(1, 1)\n",
              "        (static_padding): Identity()\n",
              "      )\n",
              "      (_project_conv): Conv2dStaticSamePadding(\n",
              "        1152, 320, kernel_size=(1, 1), stride=(1, 1), bias=False\n",
              "        (static_padding): Identity()\n",
              "      )\n",
              "      (_bn2): BatchNorm2d(320, eps=0.001, momentum=0.010000000000000009, affine=True, track_running_stats=True)\n",
              "      (_swish): MemoryEfficientSwish()\n",
              "    )\n",
              "  )\n",
              "  (_conv_head): Conv2dStaticSamePadding(\n",
              "    320, 1280, kernel_size=(1, 1), stride=(1, 1), bias=False\n",
              "    (static_padding): Identity()\n",
              "  )\n",
              "  (_bn1): BatchNorm2d(1280, eps=0.001, momentum=0.010000000000000009, affine=True, track_running_stats=True)\n",
              "  (_avg_pooling): AdaptiveAvgPool2d(output_size=1)\n",
              "  (_dropout): Dropout(p=0.2, inplace=False)\n",
              "  (_fc): Linear(in_features=1280, out_features=15, bias=True)\n",
              "  (_swish): MemoryEfficientSwish()\n",
              ")"
            ]
          },
          "metadata": {
            "tags": []
          },
          "execution_count": 17
        }
      ]
    },
    {
      "cell_type": "code",
      "metadata": {
        "colab": {
          "base_uri": "https://localhost:8080/"
        },
        "id": "mC8X4e-qT7FI",
        "outputId": "4fed51d5-42b4-48c2-d5a5-95f2e6c80ec5"
      },
      "source": [
        "corrects = 0\n",
        "total = 0\n",
        "\n",
        "model.eval()\n",
        "with torch.no_grad():\n",
        "    for j, (data, target) in enumerate(dataloaders['test']):\n",
        "        data, target = data.to(dev), target.to(dev)\n",
        "\n",
        "        output = best_model(data)\n",
        "        \n",
        "        _, preds = torch.max(output, 1)\n",
        "        corrects += torch.sum(preds == target.data)\n",
        "        total += len(preds)\n",
        "        \n",
        "print(\"{}/{} | test accuracy: {:.4f}\".format(corrects, total, corrects/total))"
      ],
      "execution_count": null,
      "outputs": [
        {
          "output_type": "stream",
          "text": [
            "/usr/local/lib/python3.7/dist-packages/torch/utils/data/dataloader.py:481: UserWarning: This DataLoader will create 8 worker processes in total. Our suggested max number of worker in current system is 2, which is smaller than what this DataLoader is going to create. Please be aware that excessive worker creation might get DataLoader running slow or even freeze, lower the worker number to avoid potential slowness/freeze if necessary.\n",
            "  cpuset_checked))\n"
          ],
          "name": "stderr"
        },
        {
          "output_type": "stream",
          "text": [
            "3729/4134 | test accuracy: 0.9020\n"
          ],
          "name": "stdout"
        }
      ]
    },
    {
      "cell_type": "code",
      "metadata": {
        "id": "KqOgo0AiWD3E"
      },
      "source": [
        ""
      ],
      "execution_count": null,
      "outputs": []
    }
  ]
}