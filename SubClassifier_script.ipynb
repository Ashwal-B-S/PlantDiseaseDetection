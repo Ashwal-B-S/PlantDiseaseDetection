{
  "nbformat": 4,
  "nbformat_minor": 0,
  "metadata": {
    "colab": {
      "name": "SubClassifier_script.ipynb",
      "provenance": [],
      "collapsed_sections": [],
      "include_colab_link": true
    },
    "kernelspec": {
      "name": "python3",
      "display_name": "Python 3"
    },
    "accelerator": "GPU"
  },
  "cells": [
    {
      "cell_type": "markdown",
      "metadata": {
        "id": "view-in-github",
        "colab_type": "text"
      },
      "source": [
        "<a href=\"https://colab.research.google.com/github/Ashwal-B-S/PlantDiseaseDetection/blob/main/SubClassifier_script.ipynb\" target=\"_parent\"><img src=\"https://colab.research.google.com/assets/colab-badge.svg\" alt=\"Open In Colab\"/></a>"
      ]
    },
    {
      "cell_type": "markdown",
      "metadata": {
        "id": "ot1048PD4mL9"
      },
      "source": [
        "Getting Dataset"
      ]
    },
    {
      "cell_type": "code",
      "metadata": {
        "colab": {
          "base_uri": "https://localhost:8080/"
        },
        "id": "dGQd93BontXw",
        "outputId": "5bad70b5-1406-4a9c-e631-58c371376045"
      },
      "source": [
        "!git clone https://github.com/deepakHonakeri05/yolo_dataset.git"
      ],
      "execution_count": 1,
      "outputs": [
        {
          "output_type": "stream",
          "text": [
            "Cloning into 'yolo_dataset'...\n",
            "remote: Enumerating objects: 36553, done.\u001b[K\n",
            "remote: Total 36553 (delta 0), reused 0 (delta 0), pack-reused 36553\u001b[K\n",
            "Receiving objects: 100% (36553/36553), 632.83 MiB | 19.42 MiB/s, done.\n",
            "Resolving deltas: 100% (221/221), done.\n",
            "Checking out files: 100% (72348/72348), done.\n"
          ],
          "name": "stdout"
        }
      ]
    },
    {
      "cell_type": "code",
      "metadata": {
        "colab": {
          "base_uri": "https://localhost:8080/"
        },
        "id": "7Sm1MY7XnXUf",
        "outputId": "bd49be3b-ad25-4e57-c133-ce8c14fc8cd1"
      },
      "source": [
        "from google.colab import drive\n",
        "drive.mount('/content/drive')"
      ],
      "execution_count": 2,
      "outputs": [
        {
          "output_type": "stream",
          "text": [
            "Mounted at /content/drive\n"
          ],
          "name": "stdout"
        }
      ]
    },
    {
      "cell_type": "code",
      "metadata": {
        "id": "gCOI2GlQL0Qk"
      },
      "source": [
        "from tensorflow.keras.applications import ResNet50\n",
        "from tensorflow.python.keras.models import Sequential,load_model,Model\n",
        "from tensorflow.python.keras.layers import Dense\n",
        "\n",
        "import numpy as np\n",
        "import pandas as pd\n",
        "\n",
        "import matplotlib.pyplot as plt\n",
        "%matplotlib inline \n",
        "\n",
        "import cv2\n",
        "\n",
        "import os\n",
        "\n",
        "import numpy as np\n",
        "from keras.preprocessing import image"
      ],
      "execution_count": 3,
      "outputs": []
    },
    {
      "cell_type": "code",
      "metadata": {
        "id": "lwEenC6hLV1A",
        "colab": {
          "base_uri": "https://localhost:8080/"
        },
        "outputId": "e8f4531a-90a2-4cc6-8a99-9ecce9a17bb1"
      },
      "source": [
        "# PEACHES\n",
        "\n",
        "NUM_CLASSES = 2\n",
        "\n",
        "RESNET50_POOLING_AVERAGE = 'avg'\n",
        "DENSE_LAYER_ACTIVATION = 'softmax'\n",
        "OBJECTIVE_FUNCTION = 'categorical_crossentropy'\n",
        "\n",
        "# Common accuracy metric for all outputs, but can use different metrics for different output\n",
        "LOSS_METRICS = ['accuracy']\n",
        "\n",
        "\n",
        "model = Sequential()\n",
        "\n",
        "# 1st layer as the lumpsum weights from resnet50_weights_tf_dim_ordering_tf_kernels_notop.h5\n",
        "# NOTE that this layer will be set below as NOT TRAINABLE, i.e., use it as is\n",
        "model.add(ResNet50(include_top = False, pooling = RESNET50_POOLING_AVERAGE, weights = 'imagenet'))\n",
        "\n",
        "\n",
        "# model.add(Dense(1024, activation = DENSE_LAYER_ACTIVATION))\n",
        "# 2nd layer as Dense for 2-class classification\n",
        "model.add(Dense(NUM_CLASSES, activation = DENSE_LAYER_ACTIVATION))\n",
        "\n",
        "# Say not to train first layer (ResNet) model as it is already trained\n",
        "model.layers[0].trainable = False\n",
        "\n",
        "#compiling\n",
        "model.compile(optimizer = 'adam', loss = OBJECTIVE_FUNCTION, metrics = LOSS_METRICS)\n",
        "\n",
        "# model.load_weights('./peach.h5')\n"
      ],
      "execution_count": 4,
      "outputs": [
        {
          "output_type": "stream",
          "text": [
            "Downloading data from https://storage.googleapis.com/tensorflow/keras-applications/resnet/resnet50_weights_tf_dim_ordering_tf_kernels_notop.h5\n",
            "94773248/94765736 [==============================] - 1s 0us/step\n"
          ],
          "name": "stdout"
        }
      ]
    },
    {
      "cell_type": "code",
      "metadata": {
        "id": "c8P0vqvCL53B",
        "colab": {
          "base_uri": "https://localhost:8080/"
        },
        "outputId": "07b52754-41ef-481e-aa0e-137ce97eab00"
      },
      "source": [
        "model.summary()"
      ],
      "execution_count": 5,
      "outputs": [
        {
          "output_type": "stream",
          "text": [
            "Model: \"sequential\"\n",
            "_________________________________________________________________\n",
            "Layer (type)                 Output Shape              Param #   \n",
            "=================================================================\n",
            "resnet50 (Functional)        (None, 2048)              23587712  \n",
            "_________________________________________________________________\n",
            "dense (Dense)                (None, 2)                 4098      \n",
            "=================================================================\n",
            "Total params: 23,591,810\n",
            "Trainable params: 4,098\n",
            "Non-trainable params: 23,587,712\n",
            "_________________________________________________________________\n"
          ],
          "name": "stdout"
        }
      ]
    },
    {
      "cell_type": "code",
      "metadata": {
        "id": "IRXn2dxJTmFM",
        "colab": {
          "base_uri": "https://localhost:8080/"
        },
        "outputId": "29446ad2-c93a-4a12-b298-d6f7b1b584f5"
      },
      "source": [
        "from keras.preprocessing.image import ImageDataGenerator\n",
        "\n",
        "train_datagen = ImageDataGenerator(\n",
        "    rotation_range = 270,\n",
        "    brightness_range = (-2,2),\n",
        "        shear_range=0.2,\n",
        "        zoom_range=0.3,\n",
        "    vertical_flip=True,\n",
        "    validation_split=0.3,\n",
        "        horizontal_flip=True)\n",
        "\n",
        "test_datagen = ImageDataGenerator(vertical_flip=True,\n",
        "                                 horizontal_flip=True,\n",
        "                                 rotation_range=180,\n",
        "                                 zoom_range=0.2)\n",
        "\n",
        "val_datagen = ImageDataGenerator(vertical_flip=True,\n",
        "                                 horizontal_flip=True,\n",
        "                                 rotation_range=180,\n",
        "                                 zoom_range=0.2)\n",
        "\n",
        "train_set = train_datagen.flow_from_directory(\n",
        "        'yolo_dataset/Peach/train/',\n",
        "        target_size=(224,224),\n",
        "        batch_size=64,\n",
        "        seed=101, \n",
        "        shuffle=True,\n",
        "        class_mode='categorical')\n",
        "\n",
        "test_set = test_datagen.flow_from_directory(\n",
        "        'yolo_dataset/Peach/test/',\n",
        "        target_size=(224, 224),\n",
        "        batch_size=64,\n",
        "        shuffle=True,\n",
        "        seed=101,\n",
        "        class_mode='categorical')\n",
        "\n",
        "# val_set = val_datagen.flow_from_directory(\n",
        "#         'yolo_dataset/pepper/val/',\n",
        "#         target_size=(224, 224),\n",
        "#         batch_size=64,\n",
        "#         shuffle=True,\n",
        "#         seed=101,\n",
        "#         class_mode='categorical')\n",
        "\n",
        "history = model.fit_generator(\n",
        "        train_set,\n",
        "        epochs=20,\n",
        "        validation_data=test_set,\n",
        "        validation_steps=9)\n",
        "\n",
        "model.save_weights(\"/content/drive/My Drive/Leaf_Weights/Weights/peachweights.h5\")"
      ],
      "execution_count": 6,
      "outputs": [
        {
          "output_type": "stream",
          "text": [
            "Found 2126 images belonging to 2 classes.\n",
            "Found 531 images belonging to 2 classes.\n"
          ],
          "name": "stdout"
        },
        {
          "output_type": "stream",
          "text": [
            "/usr/local/lib/python3.7/dist-packages/tensorflow/python/keras/engine/training.py:1940: UserWarning: `Model.fit_generator` is deprecated and will be removed in a future version. Please use `Model.fit`, which supports generators.\n",
            "  warnings.warn('`Model.fit_generator` is deprecated and '\n"
          ],
          "name": "stderr"
        },
        {
          "output_type": "stream",
          "text": [
            "Epoch 1/20\n",
            "34/34 [==============================] - 52s 1s/step - loss: 0.4073 - accuracy: 0.8650 - val_loss: 0.1305 - val_accuracy: 0.9642\n",
            "Epoch 2/20\n",
            "34/34 [==============================] - 33s 972ms/step - loss: 0.2558 - accuracy: 0.9177 - val_loss: 0.0802 - val_accuracy: 0.9755\n",
            "Epoch 3/20\n",
            "34/34 [==============================] - 34s 996ms/step - loss: 0.2510 - accuracy: 0.9163 - val_loss: 0.0617 - val_accuracy: 0.9849\n",
            "Epoch 4/20\n",
            "34/34 [==============================] - 33s 975ms/step - loss: 0.2422 - accuracy: 0.9205 - val_loss: 0.0477 - val_accuracy: 0.9868\n",
            "Epoch 5/20\n",
            "34/34 [==============================] - 34s 998ms/step - loss: 0.2365 - accuracy: 0.9186 - val_loss: 0.0462 - val_accuracy: 0.9906\n",
            "Epoch 6/20\n",
            "34/34 [==============================] - 33s 972ms/step - loss: 0.2372 - accuracy: 0.9196 - val_loss: 0.0478 - val_accuracy: 0.9831\n",
            "Epoch 7/20\n",
            "34/34 [==============================] - 34s 989ms/step - loss: 0.2326 - accuracy: 0.9200 - val_loss: 0.0443 - val_accuracy: 0.9868\n",
            "Epoch 8/20\n",
            "34/34 [==============================] - 33s 973ms/step - loss: 0.2585 - accuracy: 0.9120 - val_loss: 0.0660 - val_accuracy: 0.9774\n",
            "Epoch 9/20\n",
            "34/34 [==============================] - 34s 1s/step - loss: 0.2255 - accuracy: 0.9243 - val_loss: 0.0330 - val_accuracy: 0.9906\n",
            "Epoch 10/20\n",
            "34/34 [==============================] - 34s 997ms/step - loss: 0.2221 - accuracy: 0.9238 - val_loss: 0.0320 - val_accuracy: 0.9962\n",
            "Epoch 11/20\n",
            "34/34 [==============================] - 34s 999ms/step - loss: 0.2267 - accuracy: 0.9205 - val_loss: 0.0312 - val_accuracy: 0.9906\n",
            "Epoch 12/20\n",
            "34/34 [==============================] - 34s 997ms/step - loss: 0.2246 - accuracy: 0.9257 - val_loss: 0.0237 - val_accuracy: 0.9962\n",
            "Epoch 13/20\n",
            "34/34 [==============================] - 34s 994ms/step - loss: 0.2210 - accuracy: 0.9262 - val_loss: 0.0378 - val_accuracy: 0.9868\n",
            "Epoch 14/20\n",
            "34/34 [==============================] - 33s 981ms/step - loss: 0.2167 - accuracy: 0.9271 - val_loss: 0.0306 - val_accuracy: 0.9925\n",
            "Epoch 15/20\n",
            "34/34 [==============================] - 33s 1s/step - loss: 0.2204 - accuracy: 0.9247 - val_loss: 0.0272 - val_accuracy: 0.9906\n",
            "Epoch 16/20\n",
            "34/34 [==============================] - 33s 976ms/step - loss: 0.2284 - accuracy: 0.9200 - val_loss: 0.0379 - val_accuracy: 0.9887\n",
            "Epoch 17/20\n",
            "34/34 [==============================] - 33s 984ms/step - loss: 0.2148 - accuracy: 0.9285 - val_loss: 0.0313 - val_accuracy: 0.9944\n",
            "Epoch 18/20\n",
            "34/34 [==============================] - 34s 998ms/step - loss: 0.2248 - accuracy: 0.9233 - val_loss: 0.0178 - val_accuracy: 0.9925\n",
            "Epoch 19/20\n",
            "34/34 [==============================] - 33s 972ms/step - loss: 0.1968 - accuracy: 0.9370 - val_loss: 0.0202 - val_accuracy: 0.9944\n",
            "Epoch 20/20\n",
            "34/34 [==============================] - 33s 988ms/step - loss: 0.2112 - accuracy: 0.9276 - val_loss: 0.0199 - val_accuracy: 0.9906\n"
          ],
          "name": "stdout"
        }
      ]
    },
    {
      "cell_type": "markdown",
      "metadata": {
        "id": "Z-TiESblhbxZ"
      },
      "source": [
        "Rebuilding the network"
      ]
    },
    {
      "cell_type": "code",
      "metadata": {
        "id": "62BWdcIpmjTM"
      },
      "source": [
        "# GRAPE\n",
        "\n",
        "NUM_CLASSES = 4\n",
        "\n",
        "RESNET50_POOLING_AVERAGE = 'avg'\n",
        "DENSE_LAYER_ACTIVATION = 'softmax'\n",
        "OBJECTIVE_FUNCTION = 'categorical_crossentropy'\n",
        "\n",
        "# Common accuracy metric for all outputs, but can use different metrics for different output\n",
        "LOSS_METRICS = ['accuracy']\n",
        "\n",
        "\n",
        "model = Sequential()\n",
        "\n",
        "# 1st layer as the lumpsum weights from resnet50_weights_tf_dim_ordering_tf_kernels_notop.h5\n",
        "# NOTE that this layer will be set below as NOT TRAINABLE, i.e., use it as is\n",
        "model.add(ResNet50(include_top = False, pooling = RESNET50_POOLING_AVERAGE, weights = 'imagenet'))\n",
        "\n",
        "#model.add(Dense(512, activation = DENSE_LAYER_ACTIVATION))\n",
        "\n",
        "# 2nd layer as Dense for 4-class classification\n",
        "model.add(Dense(NUM_CLASSES, activation = DENSE_LAYER_ACTIVATION))\n",
        "\n",
        "# Say not to train first layer (ResNet) model as it is already trained\n",
        "model.layers[0].trainable = False\n",
        "\n",
        "#compiling\n",
        "model.compile(optimizer = 'adam', loss = OBJECTIVE_FUNCTION, metrics = LOSS_METRICS)\n",
        "\n"
      ],
      "execution_count": 7,
      "outputs": []
    },
    {
      "cell_type": "code",
      "metadata": {
        "colab": {
          "base_uri": "https://localhost:8080/"
        },
        "id": "67U85dwPUJ5L",
        "outputId": "473baf7b-5c08-4434-adb4-7eade6370165"
      },
      "source": [
        "model.summary()"
      ],
      "execution_count": 8,
      "outputs": [
        {
          "output_type": "stream",
          "text": [
            "Model: \"sequential_1\"\n",
            "_________________________________________________________________\n",
            "Layer (type)                 Output Shape              Param #   \n",
            "=================================================================\n",
            "resnet50 (Functional)        (None, 2048)              23587712  \n",
            "_________________________________________________________________\n",
            "dense_1 (Dense)              (None, 4)                 8196      \n",
            "=================================================================\n",
            "Total params: 23,595,908\n",
            "Trainable params: 8,196\n",
            "Non-trainable params: 23,587,712\n",
            "_________________________________________________________________\n"
          ],
          "name": "stdout"
        }
      ]
    },
    {
      "cell_type": "code",
      "metadata": {
        "colab": {
          "base_uri": "https://localhost:8080/"
        },
        "id": "hgFqR7BHUJ8S",
        "outputId": "66b03fd0-85d3-49a3-96a4-59614cb0fb06"
      },
      "source": [
        "from keras.preprocessing.image import ImageDataGenerator\n",
        "\n",
        "train_datagen = ImageDataGenerator(\n",
        "    rotation_range = 270,\n",
        "    brightness_range = (-2,2),\n",
        "        shear_range=0.2,\n",
        "        zoom_range=0.3,\n",
        "    vertical_flip=True,\n",
        "    validation_split=0.3,\n",
        "        horizontal_flip=True)\n",
        "\n",
        "test_datagen = ImageDataGenerator(vertical_flip=True,\n",
        "                                 horizontal_flip=True,\n",
        "                                 rotation_range=180,\n",
        "                                 zoom_range=0.2)\n",
        "\n",
        "val_datagen = ImageDataGenerator(vertical_flip=True,\n",
        "                                 horizontal_flip=True,\n",
        "                                 rotation_range=180,\n",
        "                                 zoom_range=0.2)\n",
        "\n",
        "train_set = train_datagen.flow_from_directory(\n",
        "        'yolo_dataset/Grape/train/',\n",
        "        target_size=(224,224),\n",
        "        batch_size=64,\n",
        "        seed=101, \n",
        "        shuffle=True,\n",
        "        class_mode='categorical')\n",
        "\n",
        "test_set = test_datagen.flow_from_directory(\n",
        "        'yolo_dataset/Grape/test/',\n",
        "        target_size=(224, 224),\n",
        "        batch_size=64,\n",
        "        shuffle=True,\n",
        "        seed=101,\n",
        "        class_mode='categorical')\n",
        "\n",
        "# val_set = val_datagen.flow_from_directory(\n",
        "#         'yolo_dataset/pepper/val/',\n",
        "#         target_size=(224, 224),\n",
        "#         batch_size=64,\n",
        "#         shuffle=True,\n",
        "#         seed=101,\n",
        "#         class_mode='categorical')\n",
        "\n",
        "history = model.fit_generator(\n",
        "        train_set,\n",
        "        epochs=25,\n",
        "        validation_data=test_set,\n",
        "        validation_steps=13)\n",
        "\n",
        "\n",
        "model.save_weights(\"/content/drive/My Drive/Leaf_Weights/Weights/grapeweights.h5\")"
      ],
      "execution_count": 9,
      "outputs": [
        {
          "output_type": "stream",
          "text": [
            "Found 3251 images belonging to 4 classes.\n",
            "Found 811 images belonging to 4 classes.\n"
          ],
          "name": "stdout"
        },
        {
          "output_type": "stream",
          "text": [
            "/usr/local/lib/python3.7/dist-packages/tensorflow/python/keras/engine/training.py:1940: UserWarning: `Model.fit_generator` is deprecated and will be removed in a future version. Please use `Model.fit`, which supports generators.\n",
            "  warnings.warn('`Model.fit_generator` is deprecated and '\n"
          ],
          "name": "stderr"
        },
        {
          "output_type": "stream",
          "text": [
            "Epoch 1/25\n",
            "51/51 [==============================] - 56s 1s/step - loss: 1.1493 - accuracy: 0.4740 - val_loss: 0.3941 - val_accuracy: 0.8779\n",
            "Epoch 2/25\n",
            "51/51 [==============================] - 52s 1s/step - loss: 0.8836 - accuracy: 0.5798 - val_loss: 0.2583 - val_accuracy: 0.9248\n",
            "Epoch 3/25\n",
            "51/51 [==============================] - 52s 1s/step - loss: 0.8372 - accuracy: 0.6020 - val_loss: 0.1958 - val_accuracy: 0.9433\n",
            "Epoch 4/25\n",
            "51/51 [==============================] - 52s 1s/step - loss: 0.8309 - accuracy: 0.5915 - val_loss: 0.1708 - val_accuracy: 0.9445\n",
            "Epoch 5/25\n",
            "51/51 [==============================] - 52s 1s/step - loss: 0.7963 - accuracy: 0.6173 - val_loss: 0.1566 - val_accuracy: 0.9544\n",
            "Epoch 6/25\n",
            "51/51 [==============================] - 52s 1s/step - loss: 0.7849 - accuracy: 0.6189 - val_loss: 0.1493 - val_accuracy: 0.9433\n",
            "Epoch 7/25\n",
            "51/51 [==============================] - 52s 1s/step - loss: 0.7541 - accuracy: 0.6373 - val_loss: 0.1339 - val_accuracy: 0.9482\n",
            "Epoch 8/25\n",
            "51/51 [==============================] - 52s 1s/step - loss: 0.7794 - accuracy: 0.6112 - val_loss: 0.1306 - val_accuracy: 0.9556\n",
            "Epoch 9/25\n",
            "51/51 [==============================] - 52s 1s/step - loss: 0.7580 - accuracy: 0.6201 - val_loss: 0.1020 - val_accuracy: 0.9581\n",
            "Epoch 10/25\n",
            "51/51 [==============================] - 52s 1s/step - loss: 0.7718 - accuracy: 0.6217 - val_loss: 0.0938 - val_accuracy: 0.9692\n",
            "Epoch 11/25\n",
            "51/51 [==============================] - 52s 1s/step - loss: 0.7537 - accuracy: 0.6297 - val_loss: 0.0988 - val_accuracy: 0.9679\n",
            "Epoch 12/25\n",
            "51/51 [==============================] - 51s 1s/step - loss: 0.7509 - accuracy: 0.6386 - val_loss: 0.1114 - val_accuracy: 0.9618\n",
            "Epoch 13/25\n",
            "51/51 [==============================] - 51s 1s/step - loss: 0.7256 - accuracy: 0.6456 - val_loss: 0.1071 - val_accuracy: 0.9655\n",
            "Epoch 14/25\n",
            "51/51 [==============================] - 53s 1s/step - loss: 0.7312 - accuracy: 0.6395 - val_loss: 0.1011 - val_accuracy: 0.9593\n",
            "Epoch 15/25\n",
            "51/51 [==============================] - 52s 1s/step - loss: 0.7424 - accuracy: 0.6269 - val_loss: 0.1013 - val_accuracy: 0.9618\n",
            "Epoch 16/25\n",
            "51/51 [==============================] - 52s 1s/step - loss: 0.7260 - accuracy: 0.6429 - val_loss: 0.0918 - val_accuracy: 0.9667\n",
            "Epoch 17/25\n",
            "51/51 [==============================] - 52s 1s/step - loss: 0.7387 - accuracy: 0.6281 - val_loss: 0.0791 - val_accuracy: 0.9729\n",
            "Epoch 18/25\n",
            "51/51 [==============================] - 52s 1s/step - loss: 0.7410 - accuracy: 0.6358 - val_loss: 0.0956 - val_accuracy: 0.9593\n",
            "Epoch 19/25\n",
            "51/51 [==============================] - 51s 1s/step - loss: 0.7442 - accuracy: 0.6223 - val_loss: 0.0755 - val_accuracy: 0.9704\n",
            "Epoch 20/25\n",
            "51/51 [==============================] - 51s 1s/step - loss: 0.7558 - accuracy: 0.6238 - val_loss: 0.0948 - val_accuracy: 0.9642\n",
            "Epoch 21/25\n",
            "51/51 [==============================] - 52s 1s/step - loss: 0.7516 - accuracy: 0.6247 - val_loss: 0.0887 - val_accuracy: 0.9642\n",
            "Epoch 22/25\n",
            "51/51 [==============================] - 53s 1s/step - loss: 0.7315 - accuracy: 0.6349 - val_loss: 0.0772 - val_accuracy: 0.9766\n",
            "Epoch 23/25\n",
            "51/51 [==============================] - 52s 1s/step - loss: 0.7451 - accuracy: 0.6290 - val_loss: 0.0717 - val_accuracy: 0.9766\n",
            "Epoch 24/25\n",
            "51/51 [==============================] - 53s 1s/step - loss: 0.7215 - accuracy: 0.6376 - val_loss: 0.0624 - val_accuracy: 0.9790\n",
            "Epoch 25/25\n",
            "51/51 [==============================] - 52s 1s/step - loss: 0.7341 - accuracy: 0.6358 - val_loss: 0.0813 - val_accuracy: 0.9741\n"
          ],
          "name": "stdout"
        }
      ]
    },
    {
      "cell_type": "code",
      "metadata": {
        "id": "kRP6FeDpXNJo"
      },
      "source": [
        "# APPLE\n",
        "\n",
        "NUM_CLASSES = 4\n",
        "\n",
        "RESNET50_POOLING_AVERAGE = 'avg'\n",
        "DENSE_LAYER_ACTIVATION = 'softmax'\n",
        "OBJECTIVE_FUNCTION = 'categorical_crossentropy'\n",
        "\n",
        "# Common accuracy metric for all outputs, but can use different metrics for different output\n",
        "LOSS_METRICS = ['accuracy']\n",
        "\n",
        "\n",
        "model = Sequential()\n",
        "\n",
        "# 1st layer as the lumpsum weights from resnet50_weights_tf_dim_ordering_tf_kernels_notop.h5\n",
        "# NOTE that this layer will be set below as NOT TRAINABLE, i.e., use it as is\n",
        "model.add(ResNet50(include_top = False, pooling = RESNET50_POOLING_AVERAGE, weights = 'imagenet'))\n",
        "\n",
        "#model.add(Dense(512, activation = DENSE_LAYER_ACTIVATION))\n",
        "\n",
        "# 2nd layer as Dense for 4-class classification\n",
        "model.add(Dense(NUM_CLASSES, activation = DENSE_LAYER_ACTIVATION))\n",
        "\n",
        "# Say not to train first layer (ResNet) model as it is already trained\n",
        "model.layers[0].trainable = False\n",
        "\n",
        "#compiling\n",
        "model.compile(optimizer = 'adam', loss = OBJECTIVE_FUNCTION, metrics = LOSS_METRICS)\n",
        "\n",
        "\n",
        "# model.load_weights('./apple.h5')\n"
      ],
      "execution_count": 10,
      "outputs": []
    },
    {
      "cell_type": "code",
      "metadata": {
        "colab": {
          "base_uri": "https://localhost:8080/"
        },
        "id": "rtdwVV7BXNJp",
        "outputId": "2303cacf-d209-4267-b687-79312d70d1f9"
      },
      "source": [
        "model.summary()"
      ],
      "execution_count": 11,
      "outputs": [
        {
          "output_type": "stream",
          "text": [
            "Model: \"sequential_2\"\n",
            "_________________________________________________________________\n",
            "Layer (type)                 Output Shape              Param #   \n",
            "=================================================================\n",
            "resnet50 (Functional)        (None, 2048)              23587712  \n",
            "_________________________________________________________________\n",
            "dense_2 (Dense)              (None, 4)                 8196      \n",
            "=================================================================\n",
            "Total params: 23,595,908\n",
            "Trainable params: 8,196\n",
            "Non-trainable params: 23,587,712\n",
            "_________________________________________________________________\n"
          ],
          "name": "stdout"
        }
      ]
    },
    {
      "cell_type": "code",
      "metadata": {
        "colab": {
          "base_uri": "https://localhost:8080/"
        },
        "id": "wHUUqZ7wXNJp",
        "outputId": "cbbd001d-f4bf-4229-cb0d-41d35c031c4d"
      },
      "source": [
        "from keras.preprocessing.image import ImageDataGenerator\n",
        "\n",
        "train_datagen = ImageDataGenerator(\n",
        "    rotation_range = 270,\n",
        "    brightness_range = (-2,2),\n",
        "        shear_range=0.2,\n",
        "        zoom_range=0.3,\n",
        "    vertical_flip=True,\n",
        "    validation_split=0.3,\n",
        "        horizontal_flip=True)\n",
        "\n",
        "test_datagen = ImageDataGenerator(vertical_flip=True,\n",
        "                                 horizontal_flip=True,\n",
        "                                 rotation_range=180,\n",
        "                                 zoom_range=0.2)\n",
        "\n",
        "val_datagen = ImageDataGenerator(vertical_flip=True,\n",
        "                                 horizontal_flip=True,\n",
        "                                 rotation_range=180,\n",
        "                                 zoom_range=0.2)\n",
        "\n",
        "train_set = train_datagen.flow_from_directory(\n",
        "        'yolo_dataset/Apple/train/',\n",
        "        target_size=(224,224),\n",
        "        batch_size=64,\n",
        "        seed=101, \n",
        "        shuffle=True,\n",
        "        class_mode='categorical')\n",
        "\n",
        "test_set = test_datagen.flow_from_directory(\n",
        "        'yolo_dataset/Apple/test/',\n",
        "        target_size=(224, 224),\n",
        "        batch_size=64,\n",
        "        shuffle=True,\n",
        "        seed=101,\n",
        "        class_mode='categorical')\n",
        "\n",
        "# val_set = val_datagen.flow_from_directory(\n",
        "#         'yolo_dataset/pepper/val/',\n",
        "#         target_size=(224, 224),\n",
        "#         batch_size=64,\n",
        "#         shuffle=True,\n",
        "#         seed=101,\n",
        "#         class_mode='categorical')\n",
        "\n",
        "history = model.fit_generator(\n",
        "        train_set,\n",
        "        epochs=25,\n",
        "        validation_data=test_set,\n",
        "        validation_steps=10)\n",
        "\n",
        "\n",
        "model.save_weights(\"/content/drive/My Drive/Leaf_Weights/Weights/appleweights.h5\")"
      ],
      "execution_count": 12,
      "outputs": [
        {
          "output_type": "stream",
          "text": [
            "Found 2537 images belonging to 4 classes.\n",
            "Found 634 images belonging to 4 classes.\n"
          ],
          "name": "stdout"
        },
        {
          "output_type": "stream",
          "text": [
            "/usr/local/lib/python3.7/dist-packages/tensorflow/python/keras/engine/training.py:1940: UserWarning: `Model.fit_generator` is deprecated and will be removed in a future version. Please use `Model.fit`, which supports generators.\n",
            "  warnings.warn('`Model.fit_generator` is deprecated and '\n"
          ],
          "name": "stderr"
        },
        {
          "output_type": "stream",
          "text": [
            "Epoch 1/25\n",
            "40/40 [==============================] - 46s 1s/step - loss: 0.9860 - accuracy: 0.6165 - val_loss: 0.4184 - val_accuracy: 0.8707\n",
            "Epoch 2/25\n",
            "40/40 [==============================] - 40s 1s/step - loss: 0.7941 - accuracy: 0.7024 - val_loss: 0.2367 - val_accuracy: 0.9464\n",
            "Epoch 3/25\n",
            "40/40 [==============================] - 42s 1s/step - loss: 0.7667 - accuracy: 0.7123 - val_loss: 0.2016 - val_accuracy: 0.9511\n",
            "Epoch 4/25\n",
            "40/40 [==============================] - 40s 992ms/step - loss: 0.7526 - accuracy: 0.7130 - val_loss: 0.1680 - val_accuracy: 0.9653\n",
            "Epoch 5/25\n",
            "40/40 [==============================] - 41s 1s/step - loss: 0.7511 - accuracy: 0.7028 - val_loss: 0.1499 - val_accuracy: 0.9637\n",
            "Epoch 6/25\n",
            "40/40 [==============================] - 40s 995ms/step - loss: 0.7371 - accuracy: 0.7103 - val_loss: 0.1199 - val_accuracy: 0.9621\n",
            "Epoch 7/25\n",
            "40/40 [==============================] - 40s 1s/step - loss: 0.7340 - accuracy: 0.7154 - val_loss: 0.1353 - val_accuracy: 0.9621\n",
            "Epoch 8/25\n",
            "40/40 [==============================] - 41s 1s/step - loss: 0.6975 - accuracy: 0.7312 - val_loss: 0.1028 - val_accuracy: 0.9763\n",
            "Epoch 9/25\n",
            "40/40 [==============================] - 39s 987ms/step - loss: 0.6812 - accuracy: 0.7367 - val_loss: 0.1100 - val_accuracy: 0.9637\n",
            "Epoch 10/25\n",
            "40/40 [==============================] - 41s 1s/step - loss: 0.7020 - accuracy: 0.7268 - val_loss: 0.0840 - val_accuracy: 0.9826\n",
            "Epoch 11/25\n",
            "40/40 [==============================] - 40s 1s/step - loss: 0.6911 - accuracy: 0.7264 - val_loss: 0.0836 - val_accuracy: 0.9842\n",
            "Epoch 12/25\n",
            "40/40 [==============================] - 40s 1s/step - loss: 0.6746 - accuracy: 0.7335 - val_loss: 0.0734 - val_accuracy: 0.9842\n",
            "Epoch 13/25\n",
            "40/40 [==============================] - 40s 989ms/step - loss: 0.6795 - accuracy: 0.7347 - val_loss: 0.0760 - val_accuracy: 0.9795\n",
            "Epoch 14/25\n",
            "40/40 [==============================] - 41s 1s/step - loss: 0.6637 - accuracy: 0.7410 - val_loss: 0.0823 - val_accuracy: 0.9700\n",
            "Epoch 15/25\n",
            "40/40 [==============================] - 40s 999ms/step - loss: 0.6748 - accuracy: 0.7383 - val_loss: 0.0771 - val_accuracy: 0.9732\n",
            "Epoch 16/25\n",
            "40/40 [==============================] - 40s 1s/step - loss: 0.6643 - accuracy: 0.7371 - val_loss: 0.0744 - val_accuracy: 0.9811\n",
            "Epoch 17/25\n",
            "40/40 [==============================] - 41s 1s/step - loss: 0.6509 - accuracy: 0.7446 - val_loss: 0.0605 - val_accuracy: 0.9779\n",
            "Epoch 18/25\n",
            "40/40 [==============================] - 39s 987ms/step - loss: 0.6702 - accuracy: 0.7316 - val_loss: 0.0720 - val_accuracy: 0.9779\n",
            "Epoch 19/25\n",
            "40/40 [==============================] - 41s 1s/step - loss: 0.6766 - accuracy: 0.7331 - val_loss: 0.0926 - val_accuracy: 0.9779\n",
            "Epoch 20/25\n",
            "40/40 [==============================] - 40s 1s/step - loss: 0.6662 - accuracy: 0.7399 - val_loss: 0.0682 - val_accuracy: 0.9763\n",
            "Epoch 21/25\n",
            "40/40 [==============================] - 41s 1s/step - loss: 0.6547 - accuracy: 0.7418 - val_loss: 0.0998 - val_accuracy: 0.9637\n",
            "Epoch 22/25\n",
            "40/40 [==============================] - 40s 992ms/step - loss: 0.6539 - accuracy: 0.7477 - val_loss: 0.0696 - val_accuracy: 0.9763\n",
            "Epoch 23/25\n",
            "40/40 [==============================] - 41s 1s/step - loss: 0.6716 - accuracy: 0.7363 - val_loss: 0.0698 - val_accuracy: 0.9748\n",
            "Epoch 24/25\n",
            "40/40 [==============================] - 40s 1s/step - loss: 0.6773 - accuracy: 0.7324 - val_loss: 0.0665 - val_accuracy: 0.9811\n",
            "Epoch 25/25\n",
            "40/40 [==============================] - 40s 1s/step - loss: 0.6625 - accuracy: 0.7379 - val_loss: 0.0583 - val_accuracy: 0.9795\n"
          ],
          "name": "stdout"
        }
      ]
    },
    {
      "cell_type": "markdown",
      "metadata": {
        "id": "J6CIzAklYsMm"
      },
      "source": [
        "Rebuilding the network"
      ]
    },
    {
      "cell_type": "code",
      "metadata": {
        "id": "M8korbkmYsM3"
      },
      "source": [
        "# CHERRY\n",
        "\n",
        "NUM_CLASSES = 2\n",
        "\n",
        "RESNET50_POOLING_AVERAGE = 'avg'\n",
        "DENSE_LAYER_ACTIVATION = 'softmax'\n",
        "OBJECTIVE_FUNCTION = 'categorical_crossentropy'\n",
        "\n",
        "# Common accuracy metric for all outputs, but can use different metrics for different output\n",
        "LOSS_METRICS = ['accuracy']\n",
        "\n",
        "\n",
        "model = Sequential()\n",
        "\n",
        "# 1st layer as the lumpsum weights from resnet50_weights_tf_dim_ordering_tf_kernels_notop.h5\n",
        "# NOTE that this layer will be set below as NOT TRAINABLE, i.e., use it as is\n",
        "model.add(ResNet50(include_top = False, pooling = RESNET50_POOLING_AVERAGE, weights = 'imagenet'))\n",
        "\n",
        "#model.add(Dense(512, activation = DENSE_LAYER_ACTIVATION))\n",
        "\n",
        "# 2nd layer as Dense for 2-class classification\n",
        "model.add(Dense(NUM_CLASSES, activation = DENSE_LAYER_ACTIVATION))\n",
        "\n",
        "# Say not to train first layer (ResNet) model as it is already trained\n",
        "model.layers[0].trainable = False\n",
        "\n",
        "#compiling\n",
        "model.compile(optimizer = 'adam', loss = OBJECTIVE_FUNCTION, metrics = LOSS_METRICS)\n",
        "\n",
        "\n",
        "# model.load_weights('./apple.h5')\n"
      ],
      "execution_count": 13,
      "outputs": []
    },
    {
      "cell_type": "code",
      "metadata": {
        "colab": {
          "base_uri": "https://localhost:8080/"
        },
        "id": "Ylmq2NJsYsM4",
        "outputId": "b7becd26-2676-41c0-b425-d50e7f274237"
      },
      "source": [
        "model.summary()"
      ],
      "execution_count": 14,
      "outputs": [
        {
          "output_type": "stream",
          "text": [
            "Model: \"sequential_3\"\n",
            "_________________________________________________________________\n",
            "Layer (type)                 Output Shape              Param #   \n",
            "=================================================================\n",
            "resnet50 (Functional)        (None, 2048)              23587712  \n",
            "_________________________________________________________________\n",
            "dense_3 (Dense)              (None, 2)                 4098      \n",
            "=================================================================\n",
            "Total params: 23,591,810\n",
            "Trainable params: 4,098\n",
            "Non-trainable params: 23,587,712\n",
            "_________________________________________________________________\n"
          ],
          "name": "stdout"
        }
      ]
    },
    {
      "cell_type": "code",
      "metadata": {
        "colab": {
          "base_uri": "https://localhost:8080/"
        },
        "id": "m4LZWtk3YsM4",
        "outputId": "e7ea400b-cbb6-4c9c-f7d8-3384f71f4fc6"
      },
      "source": [
        "from keras.preprocessing.image import ImageDataGenerator\n",
        "\n",
        "train_datagen = ImageDataGenerator(\n",
        "    rotation_range = 270,\n",
        "    brightness_range = (-2,2),\n",
        "        shear_range=0.2,\n",
        "        zoom_range=0.3,\n",
        "    vertical_flip=True,\n",
        "    validation_split=0.3,\n",
        "        horizontal_flip=True)\n",
        "\n",
        "test_datagen = ImageDataGenerator(vertical_flip=True,\n",
        "                                 horizontal_flip=True,\n",
        "                                 rotation_range=180,\n",
        "                                 zoom_range=0.2)\n",
        "\n",
        "val_datagen = ImageDataGenerator(vertical_flip=True,\n",
        "                                 horizontal_flip=True,\n",
        "                                 rotation_range=180,\n",
        "                                 zoom_range=0.2)\n",
        "\n",
        "train_set = train_datagen.flow_from_directory(\n",
        "        'yolo_dataset/cherry/train/',\n",
        "        target_size=(224,224),\n",
        "        batch_size=64,\n",
        "        seed=101, \n",
        "        shuffle=True,\n",
        "        class_mode='categorical')\n",
        "\n",
        "test_set = test_datagen.flow_from_directory(\n",
        "        'yolo_dataset/cherry/test/',\n",
        "        target_size=(224, 224),\n",
        "        batch_size=64,\n",
        "        shuffle=True,\n",
        "        seed=101,\n",
        "        class_mode='categorical')\n",
        "\n",
        "# val_set = val_datagen.flow_from_directory(\n",
        "#         'yolo_dataset/pepper/val/',\n",
        "#         target_size=(224, 224),\n",
        "#         batch_size=64,\n",
        "#         shuffle=True,\n",
        "#         seed=101,\n",
        "#         class_mode='categorical')\n",
        "\n",
        "history = model.fit_generator(\n",
        "        train_set,\n",
        "        epochs=20,\n",
        "        validation_data=test_set,\n",
        "        validation_steps=6)\n",
        "\n",
        "\n",
        "model.save_weights(\"/content/drive/My Drive/Leaf_Weights/Weights/cherryweights.h5\")"
      ],
      "execution_count": 15,
      "outputs": [
        {
          "output_type": "stream",
          "text": [
            "Found 1374 images belonging to 2 classes.\n",
            "Found 380 images belonging to 2 classes.\n"
          ],
          "name": "stdout"
        },
        {
          "output_type": "stream",
          "text": [
            "/usr/local/lib/python3.7/dist-packages/tensorflow/python/keras/engine/training.py:1940: UserWarning: `Model.fit_generator` is deprecated and will be removed in a future version. Please use `Model.fit`, which supports generators.\n",
            "  warnings.warn('`Model.fit_generator` is deprecated and '\n"
          ],
          "name": "stderr"
        },
        {
          "output_type": "stream",
          "text": [
            "Epoch 1/20\n",
            "22/22 [==============================] - 27s 1s/step - loss: 0.5508 - accuracy: 0.6776 - val_loss: 0.1038 - val_accuracy: 0.9789\n",
            "Epoch 2/20\n",
            "22/22 [==============================] - 22s 1s/step - loss: 0.3867 - accuracy: 0.7656 - val_loss: 0.0488 - val_accuracy: 0.9895\n",
            "Epoch 3/20\n",
            "22/22 [==============================] - 24s 1s/step - loss: 0.3787 - accuracy: 0.7533 - val_loss: 0.0309 - val_accuracy: 0.9974\n",
            "Epoch 4/20\n",
            "22/22 [==============================] - 22s 1s/step - loss: 0.3719 - accuracy: 0.7809 - val_loss: 0.0243 - val_accuracy: 0.9974\n",
            "Epoch 5/20\n",
            "22/22 [==============================] - 22s 996ms/step - loss: 0.3781 - accuracy: 0.7627 - val_loss: 0.0186 - val_accuracy: 0.9974\n",
            "Epoch 6/20\n",
            "22/22 [==============================] - 23s 1s/step - loss: 0.3657 - accuracy: 0.7635 - val_loss: 0.0164 - val_accuracy: 0.9974\n",
            "Epoch 7/20\n",
            "22/22 [==============================] - 22s 995ms/step - loss: 0.3691 - accuracy: 0.7686 - val_loss: 0.0148 - val_accuracy: 1.0000\n",
            "Epoch 8/20\n",
            "22/22 [==============================] - 22s 987ms/step - loss: 0.3791 - accuracy: 0.7591 - val_loss: 0.0124 - val_accuracy: 1.0000\n",
            "Epoch 9/20\n",
            "22/22 [==============================] - 23s 1s/step - loss: 0.3658 - accuracy: 0.7569 - val_loss: 0.0114 - val_accuracy: 1.0000\n",
            "Epoch 10/20\n",
            "22/22 [==============================] - 22s 1s/step - loss: 0.3601 - accuracy: 0.7569 - val_loss: 0.0099 - val_accuracy: 0.9974\n",
            "Epoch 11/20\n",
            "22/22 [==============================] - 22s 1s/step - loss: 0.3628 - accuracy: 0.7751 - val_loss: 0.0110 - val_accuracy: 1.0000\n",
            "Epoch 12/20\n",
            "22/22 [==============================] - 23s 1s/step - loss: 0.3728 - accuracy: 0.7620 - val_loss: 0.0100 - val_accuracy: 0.9947\n",
            "Epoch 13/20\n",
            "22/22 [==============================] - 23s 1s/step - loss: 0.3578 - accuracy: 0.7678 - val_loss: 0.0105 - val_accuracy: 1.0000\n",
            "Epoch 14/20\n",
            "22/22 [==============================] - 22s 1s/step - loss: 0.3559 - accuracy: 0.7576 - val_loss: 0.0125 - val_accuracy: 1.0000\n",
            "Epoch 15/20\n",
            "22/22 [==============================] - 22s 1s/step - loss: 0.3512 - accuracy: 0.7511 - val_loss: 0.0062 - val_accuracy: 1.0000\n",
            "Epoch 16/20\n",
            "22/22 [==============================] - 23s 1s/step - loss: 0.3578 - accuracy: 0.7562 - val_loss: 0.0056 - val_accuracy: 1.0000\n",
            "Epoch 17/20\n",
            "22/22 [==============================] - 22s 983ms/step - loss: 0.3508 - accuracy: 0.7642 - val_loss: 0.0069 - val_accuracy: 1.0000\n",
            "Epoch 18/20\n",
            "22/22 [==============================] - 22s 1s/step - loss: 0.3920 - accuracy: 0.7285 - val_loss: 0.0053 - val_accuracy: 1.0000\n",
            "Epoch 19/20\n",
            "22/22 [==============================] - 23s 1s/step - loss: 0.3578 - accuracy: 0.7438 - val_loss: 0.0059 - val_accuracy: 0.9974\n",
            "Epoch 20/20\n",
            "22/22 [==============================] - 22s 986ms/step - loss: 0.3622 - accuracy: 0.7584 - val_loss: 0.0037 - val_accuracy: 1.0000\n"
          ],
          "name": "stdout"
        }
      ]
    },
    {
      "cell_type": "markdown",
      "metadata": {
        "id": "8wKUYdggZo_M"
      },
      "source": [
        "Rebuilding the network"
      ]
    },
    {
      "cell_type": "code",
      "metadata": {
        "id": "zsFrcOEZZo_N"
      },
      "source": [
        "# PEPPER\n",
        "\n",
        "NUM_CLASSES = 2\n",
        "\n",
        "RESNET50_POOLING_AVERAGE = 'avg'\n",
        "DENSE_LAYER_ACTIVATION = 'softmax'\n",
        "OBJECTIVE_FUNCTION = 'categorical_crossentropy'\n",
        "\n",
        "# Common accuracy metric for all outputs, but can use different metrics for different output\n",
        "LOSS_METRICS = ['accuracy']\n",
        "\n",
        "\n",
        "model = Sequential()\n",
        "\n",
        "# 1st layer as the lumpsum weights from resnet50_weights_tf_dim_ordering_tf_kernels_notop.h5\n",
        "# NOTE that this layer will be set below as NOT TRAINABLE, i.e., use it as is\n",
        "model.add(ResNet50(include_top = False, pooling = RESNET50_POOLING_AVERAGE, weights = 'imagenet'))\n",
        "\n",
        "#model.add(Dense(512, activation = DENSE_LAYER_ACTIVATION))\n",
        "\n",
        "# 2nd layer as Dense for 2-class classification\n",
        "model.add(Dense(NUM_CLASSES, activation = DENSE_LAYER_ACTIVATION))\n",
        "\n",
        "# Say not to train first layer (ResNet) model as it is already trained\n",
        "model.layers[0].trainable = False\n",
        "\n",
        "#compiling\n",
        "model.compile(optimizer = 'adam', loss = OBJECTIVE_FUNCTION, metrics = LOSS_METRICS)\n"
      ],
      "execution_count": 16,
      "outputs": []
    },
    {
      "cell_type": "code",
      "metadata": {
        "colab": {
          "base_uri": "https://localhost:8080/"
        },
        "id": "JGWBtxO8Zo_O",
        "outputId": "088c775e-2739-4fc7-dee8-be21da40d610"
      },
      "source": [
        "model.summary()"
      ],
      "execution_count": 17,
      "outputs": [
        {
          "output_type": "stream",
          "text": [
            "Model: \"sequential_4\"\n",
            "_________________________________________________________________\n",
            "Layer (type)                 Output Shape              Param #   \n",
            "=================================================================\n",
            "resnet50 (Functional)        (None, 2048)              23587712  \n",
            "_________________________________________________________________\n",
            "dense_4 (Dense)              (None, 2)                 4098      \n",
            "=================================================================\n",
            "Total params: 23,591,810\n",
            "Trainable params: 4,098\n",
            "Non-trainable params: 23,587,712\n",
            "_________________________________________________________________\n"
          ],
          "name": "stdout"
        }
      ]
    },
    {
      "cell_type": "code",
      "metadata": {
        "colab": {
          "base_uri": "https://localhost:8080/"
        },
        "id": "dgwjw11cZo_O",
        "outputId": "bc6fc589-5ccf-4986-d2dd-cec7b853d3b9"
      },
      "source": [
        "from keras.preprocessing.image import ImageDataGenerator\n",
        "\n",
        "train_datagen = ImageDataGenerator(\n",
        "    rotation_range = 270,\n",
        "    brightness_range = (-2,2),\n",
        "        shear_range=0.2,\n",
        "        zoom_range=0.3,\n",
        "    vertical_flip=True,\n",
        "    validation_split=0.3,\n",
        "        horizontal_flip=True)\n",
        "\n",
        "test_datagen = ImageDataGenerator(vertical_flip=True,\n",
        "                                 horizontal_flip=True,\n",
        "                                 rotation_range=180,\n",
        "                                 zoom_range=0.2)\n",
        "\n",
        "val_datagen = ImageDataGenerator(vertical_flip=True,\n",
        "                                 horizontal_flip=True,\n",
        "                                 rotation_range=180,\n",
        "                                 zoom_range=0.2)\n",
        "\n",
        "train_set = train_datagen.flow_from_directory(\n",
        "        'yolo_dataset/pepper/train/',\n",
        "        target_size=(224,224),\n",
        "        batch_size=64,\n",
        "        seed=101, \n",
        "        shuffle=True,\n",
        "        class_mode='categorical')\n",
        "\n",
        "test_set = test_datagen.flow_from_directory(\n",
        "        'yolo_dataset/pepper/test/',\n",
        "        target_size=(224, 224),\n",
        "        batch_size=64,\n",
        "        shuffle=True,\n",
        "        seed=101,\n",
        "        class_mode='categorical')\n",
        "\n",
        "# val_set = val_datagen.flow_from_directory(\n",
        "#         'yolo_dataset/pepper/val/',\n",
        "#         target_size=(224, 224),\n",
        "#         batch_size=64,\n",
        "#         shuffle=True,\n",
        "#         seed=101,\n",
        "#         class_mode='categorical')\n",
        "\n",
        "history = model.fit_generator(\n",
        "        train_set,\n",
        "        epochs=20,\n",
        "        validation_data=test_set,\n",
        "        validation_steps=8)\n",
        "\n",
        "\n",
        "model.save_weights(\"/content/drive/My Drive/Leaf_Weights/Weights/pepperweights.h5\")"
      ],
      "execution_count": 18,
      "outputs": [
        {
          "output_type": "stream",
          "text": [
            "Found 1784 images belonging to 2 classes.\n",
            "Found 494 images belonging to 2 classes.\n"
          ],
          "name": "stdout"
        },
        {
          "output_type": "stream",
          "text": [
            "/usr/local/lib/python3.7/dist-packages/tensorflow/python/keras/engine/training.py:1940: UserWarning: `Model.fit_generator` is deprecated and will be removed in a future version. Please use `Model.fit`, which supports generators.\n",
            "  warnings.warn('`Model.fit_generator` is deprecated and '\n"
          ],
          "name": "stderr"
        },
        {
          "output_type": "stream",
          "text": [
            "Epoch 1/20\n",
            "28/28 [==============================] - 33s 1s/step - loss: 0.5919 - accuracy: 0.6592 - val_loss: 0.2647 - val_accuracy: 0.9089\n",
            "Epoch 2/20\n",
            "28/28 [==============================] - 29s 1s/step - loss: 0.4567 - accuracy: 0.7506 - val_loss: 0.1817 - val_accuracy: 0.9474\n",
            "Epoch 3/20\n",
            "28/28 [==============================] - 29s 1s/step - loss: 0.4482 - accuracy: 0.7646 - val_loss: 0.1785 - val_accuracy: 0.9534\n",
            "Epoch 4/20\n",
            "28/28 [==============================] - 29s 1s/step - loss: 0.4458 - accuracy: 0.7522 - val_loss: 0.1289 - val_accuracy: 0.9676\n",
            "Epoch 5/20\n",
            "28/28 [==============================] - 30s 1s/step - loss: 0.4438 - accuracy: 0.7422 - val_loss: 0.1292 - val_accuracy: 0.9737\n",
            "Epoch 6/20\n",
            "28/28 [==============================] - 29s 1s/step - loss: 0.4358 - accuracy: 0.7595 - val_loss: 0.1204 - val_accuracy: 0.9737\n",
            "Epoch 7/20\n",
            "28/28 [==============================] - 28s 1s/step - loss: 0.4334 - accuracy: 0.7506 - val_loss: 0.1199 - val_accuracy: 0.9818\n",
            "Epoch 8/20\n",
            "28/28 [==============================] - 30s 1s/step - loss: 0.4344 - accuracy: 0.7635 - val_loss: 0.1069 - val_accuracy: 0.9838\n",
            "Epoch 9/20\n",
            "28/28 [==============================] - 28s 1s/step - loss: 0.4365 - accuracy: 0.7584 - val_loss: 0.1143 - val_accuracy: 0.9757\n",
            "Epoch 10/20\n",
            "28/28 [==============================] - 30s 1s/step - loss: 0.4126 - accuracy: 0.7567 - val_loss: 0.1466 - val_accuracy: 0.9696\n",
            "Epoch 11/20\n",
            "28/28 [==============================] - 29s 1s/step - loss: 0.4040 - accuracy: 0.7590 - val_loss: 0.1186 - val_accuracy: 0.9798\n",
            "Epoch 12/20\n",
            "28/28 [==============================] - 29s 1s/step - loss: 0.4120 - accuracy: 0.7377 - val_loss: 0.1155 - val_accuracy: 0.9696\n",
            "Epoch 13/20\n",
            "28/28 [==============================] - 29s 1s/step - loss: 0.4012 - accuracy: 0.7567 - val_loss: 0.1219 - val_accuracy: 0.9717\n",
            "Epoch 14/20\n",
            "28/28 [==============================] - 28s 1s/step - loss: 0.4183 - accuracy: 0.7539 - val_loss: 0.1110 - val_accuracy: 0.9798\n",
            "Epoch 15/20\n",
            "28/28 [==============================] - 30s 1s/step - loss: 0.4042 - accuracy: 0.7685 - val_loss: 0.0858 - val_accuracy: 0.9858\n",
            "Epoch 16/20\n",
            "28/28 [==============================] - 30s 1s/step - loss: 0.3940 - accuracy: 0.7791 - val_loss: 0.0919 - val_accuracy: 0.9879\n",
            "Epoch 17/20\n",
            "28/28 [==============================] - 28s 1s/step - loss: 0.3976 - accuracy: 0.7668 - val_loss: 0.1227 - val_accuracy: 0.9777\n",
            "Epoch 18/20\n",
            "28/28 [==============================] - 30s 1s/step - loss: 0.4060 - accuracy: 0.7646 - val_loss: 0.1093 - val_accuracy: 0.9879\n",
            "Epoch 19/20\n",
            "28/28 [==============================] - 29s 1s/step - loss: 0.3930 - accuracy: 0.7786 - val_loss: 0.0995 - val_accuracy: 0.9798\n",
            "Epoch 20/20\n",
            "28/28 [==============================] - 29s 1s/step - loss: 0.3880 - accuracy: 0.7803 - val_loss: 0.0896 - val_accuracy: 0.9858\n"
          ],
          "name": "stdout"
        }
      ]
    },
    {
      "cell_type": "markdown",
      "metadata": {
        "id": "yl1P3D7radw2"
      },
      "source": [
        "Rebuilding the network"
      ]
    },
    {
      "cell_type": "code",
      "metadata": {
        "id": "M4vJPvSyadxD"
      },
      "source": [
        "# POTATO\n",
        "\n",
        "NUM_CLASSES = 3\n",
        "\n",
        "RESNET50_POOLING_AVERAGE = 'avg'\n",
        "DENSE_LAYER_ACTIVATION = 'softmax'\n",
        "OBJECTIVE_FUNCTION = 'categorical_crossentropy'\n",
        "\n",
        "# Common accuracy metric for all outputs, but can use different metrics for different output\n",
        "LOSS_METRICS = ['accuracy']\n",
        "\n",
        "\n",
        "model = Sequential()\n",
        "\n",
        "# 1st layer as the lumpsum weights from resnet50_weights_tf_dim_ordering_tf_kernels_notop.h5\n",
        "# NOTE that this layer will be set below as NOT TRAINABLE, i.e., use it as is\n",
        "model.add(ResNet50(include_top = False, pooling = RESNET50_POOLING_AVERAGE, weights = 'imagenet'))\n",
        "\n",
        "#model.add(Dense(512, activation = DENSE_LAYER_ACTIVATION))\n",
        "\n",
        "# 2nd layer as Dense for 3-class classification\n",
        "model.add(Dense(NUM_CLASSES, activation = DENSE_LAYER_ACTIVATION))\n",
        "\n",
        "# Say not to train first layer (ResNet) model as it is already trained\n",
        "model.layers[0].trainable = False\n",
        "\n",
        "#compiling\n",
        "model.compile(optimizer = 'adam', loss = OBJECTIVE_FUNCTION, metrics = LOSS_METRICS)\n",
        "\n",
        "\n",
        "# model.load_weights('./apple.h5')\n"
      ],
      "execution_count": 19,
      "outputs": []
    },
    {
      "cell_type": "code",
      "metadata": {
        "id": "qUp55Uo_adxD",
        "colab": {
          "base_uri": "https://localhost:8080/"
        },
        "outputId": "fb7270b9-b790-4d47-ba56-97b0674c8f40"
      },
      "source": [
        "model.summary()"
      ],
      "execution_count": 20,
      "outputs": [
        {
          "output_type": "stream",
          "text": [
            "Model: \"sequential_5\"\n",
            "_________________________________________________________________\n",
            "Layer (type)                 Output Shape              Param #   \n",
            "=================================================================\n",
            "resnet50 (Functional)        (None, 2048)              23587712  \n",
            "_________________________________________________________________\n",
            "dense_5 (Dense)              (None, 3)                 6147      \n",
            "=================================================================\n",
            "Total params: 23,593,859\n",
            "Trainable params: 6,147\n",
            "Non-trainable params: 23,587,712\n",
            "_________________________________________________________________\n"
          ],
          "name": "stdout"
        }
      ]
    },
    {
      "cell_type": "code",
      "metadata": {
        "id": "vUjOiQo2adxE",
        "colab": {
          "base_uri": "https://localhost:8080/"
        },
        "outputId": "dd2e9b60-2e93-4536-c324-590729ec143e"
      },
      "source": [
        "from keras.preprocessing.image import ImageDataGenerator\n",
        "\n",
        "train_datagen = ImageDataGenerator(\n",
        "    rotation_range = 270,\n",
        "    brightness_range = (-2,2),\n",
        "        shear_range=0.2,\n",
        "        zoom_range=0.3,\n",
        "    vertical_flip=True,\n",
        "    validation_split=0.3,\n",
        "        horizontal_flip=True)\n",
        "\n",
        "test_datagen = ImageDataGenerator(vertical_flip=True,\n",
        "                                 horizontal_flip=True,\n",
        "                                 rotation_range=180,\n",
        "                                 zoom_range=0.2)\n",
        "\n",
        "val_datagen = ImageDataGenerator(vertical_flip=True,\n",
        "                                 horizontal_flip=True,\n",
        "                                 rotation_range=180,\n",
        "                                 zoom_range=0.2)\n",
        "\n",
        "train_set = train_datagen.flow_from_directory(\n",
        "        'yolo_dataset/potato/train/',\n",
        "        target_size=(224,224),\n",
        "        batch_size=64,\n",
        "        seed=101, \n",
        "        shuffle=True,\n",
        "        class_mode='categorical')\n",
        "\n",
        "test_set = test_datagen.flow_from_directory(\n",
        "        'yolo_dataset/potato/test/',\n",
        "        target_size=(224, 224),\n",
        "        batch_size=64,\n",
        "        shuffle=True,\n",
        "        seed=101,\n",
        "        class_mode='categorical')\n",
        "\n",
        "# val_set = val_datagen.flow_from_directory(\n",
        "#         'yolo_dataset/pepper/val/',\n",
        "#         target_size=(224, 224),\n",
        "#         batch_size=64,\n",
        "#         shuffle=True,\n",
        "#         seed=101,\n",
        "#         class_mode='categorical')\n",
        "\n",
        "history = model.fit_generator(\n",
        "        train_set,\n",
        "        epochs=25,\n",
        "        validation_data=test_set,\n",
        "        validation_steps=7)\n",
        "\n",
        "\n",
        "model.save_weights(\"/content/drive/My Drive/Leaf_Weights/Weights/potatoweights.h5\")"
      ],
      "execution_count": 21,
      "outputs": [
        {
          "output_type": "stream",
          "text": [
            "Found 1722 images belonging to 3 classes.\n",
            "Found 430 images belonging to 3 classes.\n"
          ],
          "name": "stdout"
        },
        {
          "output_type": "stream",
          "text": [
            "/usr/local/lib/python3.7/dist-packages/tensorflow/python/keras/engine/training.py:1940: UserWarning: `Model.fit_generator` is deprecated and will be removed in a future version. Please use `Model.fit`, which supports generators.\n",
            "  warnings.warn('`Model.fit_generator` is deprecated and '\n"
          ],
          "name": "stderr"
        },
        {
          "output_type": "stream",
          "text": [
            "Epoch 1/25\n",
            "27/27 [==============================] - 32s 1s/step - loss: 0.8681 - accuracy: 0.5528 - val_loss: 0.5257 - val_accuracy: 0.7860\n",
            "Epoch 2/25\n",
            "27/27 [==============================] - 27s 1s/step - loss: 0.6871 - accuracy: 0.6463 - val_loss: 0.3013 - val_accuracy: 0.8814\n",
            "Epoch 3/25\n",
            "27/27 [==============================] - 28s 1s/step - loss: 0.6216 - accuracy: 0.6858 - val_loss: 0.2275 - val_accuracy: 0.9186\n",
            "Epoch 4/25\n",
            "27/27 [==============================] - 27s 1s/step - loss: 0.6252 - accuracy: 0.6585 - val_loss: 0.2378 - val_accuracy: 0.9140\n",
            "Epoch 5/25\n",
            "27/27 [==============================] - 29s 1s/step - loss: 0.6122 - accuracy: 0.6603 - val_loss: 0.2262 - val_accuracy: 0.9233\n",
            "Epoch 6/25\n",
            "27/27 [==============================] - 29s 1s/step - loss: 0.5981 - accuracy: 0.6777 - val_loss: 0.1874 - val_accuracy: 0.9279\n",
            "Epoch 7/25\n",
            "27/27 [==============================] - 28s 1s/step - loss: 0.5771 - accuracy: 0.6934 - val_loss: 0.1692 - val_accuracy: 0.9581\n",
            "Epoch 8/25\n",
            "27/27 [==============================] - 27s 1s/step - loss: 0.5917 - accuracy: 0.6864 - val_loss: 0.1528 - val_accuracy: 0.9535\n",
            "Epoch 9/25\n",
            "27/27 [==============================] - 28s 1s/step - loss: 0.5701 - accuracy: 0.6864 - val_loss: 0.1529 - val_accuracy: 0.9395\n",
            "Epoch 10/25\n",
            "27/27 [==============================] - 27s 998ms/step - loss: 0.5711 - accuracy: 0.7021 - val_loss: 0.1421 - val_accuracy: 0.9558\n",
            "Epoch 11/25\n",
            "27/27 [==============================] - 29s 1s/step - loss: 0.5563 - accuracy: 0.6852 - val_loss: 0.1387 - val_accuracy: 0.9581\n",
            "Epoch 12/25\n",
            "27/27 [==============================] - 27s 1s/step - loss: 0.5592 - accuracy: 0.6852 - val_loss: 0.1050 - val_accuracy: 0.9744\n",
            "Epoch 13/25\n",
            "27/27 [==============================] - 28s 1s/step - loss: 0.5452 - accuracy: 0.7033 - val_loss: 0.1090 - val_accuracy: 0.9698\n",
            "Epoch 14/25\n",
            "27/27 [==============================] - 28s 1s/step - loss: 0.5524 - accuracy: 0.6882 - val_loss: 0.1292 - val_accuracy: 0.9512\n",
            "Epoch 15/25\n",
            "27/27 [==============================] - 27s 997ms/step - loss: 0.5655 - accuracy: 0.6794 - val_loss: 0.0931 - val_accuracy: 0.9651\n",
            "Epoch 16/25\n",
            "27/27 [==============================] - 28s 1s/step - loss: 0.5317 - accuracy: 0.7125 - val_loss: 0.1131 - val_accuracy: 0.9674\n",
            "Epoch 17/25\n",
            "27/27 [==============================] - 29s 1s/step - loss: 0.5238 - accuracy: 0.7172 - val_loss: 0.1013 - val_accuracy: 0.9628\n",
            "Epoch 18/25\n",
            "27/27 [==============================] - 27s 994ms/step - loss: 0.5482 - accuracy: 0.6922 - val_loss: 0.1318 - val_accuracy: 0.9605\n",
            "Epoch 19/25\n",
            "27/27 [==============================] - 28s 1s/step - loss: 0.5381 - accuracy: 0.7003 - val_loss: 0.1090 - val_accuracy: 0.9605\n",
            "Epoch 20/25\n",
            "27/27 [==============================] - 28s 1s/step - loss: 0.5243 - accuracy: 0.7033 - val_loss: 0.0881 - val_accuracy: 0.9744\n",
            "Epoch 21/25\n",
            "27/27 [==============================] - 27s 995ms/step - loss: 0.5346 - accuracy: 0.7085 - val_loss: 0.0849 - val_accuracy: 0.9744\n",
            "Epoch 22/25\n",
            "27/27 [==============================] - 29s 1s/step - loss: 0.5404 - accuracy: 0.6980 - val_loss: 0.0844 - val_accuracy: 0.9721\n",
            "Epoch 23/25\n",
            "27/27 [==============================] - 27s 1s/step - loss: 0.5137 - accuracy: 0.7184 - val_loss: 0.0804 - val_accuracy: 0.9744\n",
            "Epoch 24/25\n",
            "27/27 [==============================] - 28s 1s/step - loss: 0.5386 - accuracy: 0.6998 - val_loss: 0.1327 - val_accuracy: 0.9465\n",
            "Epoch 25/25\n",
            "27/27 [==============================] - 27s 1s/step - loss: 0.5274 - accuracy: 0.7050 - val_loss: 0.0885 - val_accuracy: 0.9698\n"
          ],
          "name": "stdout"
        }
      ]
    },
    {
      "cell_type": "markdown",
      "metadata": {
        "id": "Q0hIw96Oa3iC"
      },
      "source": [
        "Rebuilding the network"
      ]
    },
    {
      "cell_type": "code",
      "metadata": {
        "id": "0yTj2dZKa3iS"
      },
      "source": [
        "# STRAWBERRY\n",
        "\n",
        "NUM_CLASSES = 2\n",
        "\n",
        "RESNET50_POOLING_AVERAGE = 'avg'\n",
        "DENSE_LAYER_ACTIVATION = 'softmax'\n",
        "OBJECTIVE_FUNCTION = 'categorical_crossentropy'\n",
        "\n",
        "# Common accuracy metric for all outputs, but can use different metrics for different output\n",
        "LOSS_METRICS = ['accuracy']\n",
        "\n",
        "\n",
        "model = Sequential()\n",
        "\n",
        "# 1st layer as the lumpsum weights from resnet50_weights_tf_dim_ordering_tf_kernels_notop.h5\n",
        "# NOTE that this layer will be set below as NOT TRAINABLE, i.e., use it as is\n",
        "model.add(ResNet50(include_top = False, pooling = RESNET50_POOLING_AVERAGE, weights = 'imagenet'))\n",
        "\n",
        "#model.add(Dense(512, activation = DENSE_LAYER_ACTIVATION))\n",
        "\n",
        "# 2nd layer as Dense for 2-class classification\n",
        "model.add(Dense(NUM_CLASSES, activation = DENSE_LAYER_ACTIVATION))\n",
        "\n",
        "# Say not to train first layer (ResNet) model as it is already trained\n",
        "model.layers[0].trainable = False\n",
        "\n",
        "#compiling\n",
        "model.compile(optimizer = 'adam', loss = OBJECTIVE_FUNCTION, metrics = LOSS_METRICS)\n"
      ],
      "execution_count": 22,
      "outputs": []
    },
    {
      "cell_type": "code",
      "metadata": {
        "id": "tIPwimgMa3iT",
        "colab": {
          "base_uri": "https://localhost:8080/"
        },
        "outputId": "05ccaded-ead6-40ca-d4a7-9ce2c41f67db"
      },
      "source": [
        "model.summary()"
      ],
      "execution_count": 23,
      "outputs": [
        {
          "output_type": "stream",
          "text": [
            "Model: \"sequential_6\"\n",
            "_________________________________________________________________\n",
            "Layer (type)                 Output Shape              Param #   \n",
            "=================================================================\n",
            "resnet50 (Functional)        (None, 2048)              23587712  \n",
            "_________________________________________________________________\n",
            "dense_6 (Dense)              (None, 2)                 4098      \n",
            "=================================================================\n",
            "Total params: 23,591,810\n",
            "Trainable params: 4,098\n",
            "Non-trainable params: 23,587,712\n",
            "_________________________________________________________________\n"
          ],
          "name": "stdout"
        }
      ]
    },
    {
      "cell_type": "code",
      "metadata": {
        "id": "RTksmUBJa3iT",
        "colab": {
          "base_uri": "https://localhost:8080/"
        },
        "outputId": "78f85ffd-342e-458a-8f0f-d69d24875652"
      },
      "source": [
        "from keras.preprocessing.image import ImageDataGenerator\n",
        "\n",
        "train_datagen = ImageDataGenerator(\n",
        "    rotation_range = 270,\n",
        "    brightness_range = (-2,2),\n",
        "        shear_range=0.2,\n",
        "        zoom_range=0.3,\n",
        "    vertical_flip=True,\n",
        "    validation_split=0.3,\n",
        "        horizontal_flip=True)\n",
        "\n",
        "test_datagen = ImageDataGenerator(vertical_flip=True,\n",
        "                                 horizontal_flip=True,\n",
        "                                 rotation_range=180,\n",
        "                                 zoom_range=0.2)\n",
        "\n",
        "val_datagen = ImageDataGenerator(vertical_flip=True,\n",
        "                                 horizontal_flip=True,\n",
        "                                 rotation_range=180,\n",
        "                                 zoom_range=0.2)\n",
        "\n",
        "train_set = train_datagen.flow_from_directory(\n",
        "        'yolo_dataset/strawberry/train/',\n",
        "        target_size=(224,224),\n",
        "        batch_size=64,\n",
        "        seed=101, \n",
        "        shuffle=True,\n",
        "        class_mode='categorical')\n",
        "\n",
        "test_set = test_datagen.flow_from_directory(\n",
        "        'yolo_dataset/strawberry/test/',\n",
        "        target_size=(224, 224),\n",
        "        batch_size=64,\n",
        "        shuffle=True,\n",
        "        seed=101,\n",
        "        class_mode='categorical')\n",
        "\n",
        "# val_set = val_datagen.flow_from_directory(\n",
        "#         'yolo_dataset/pepper/val/',\n",
        "#         target_size=(224, 224),\n",
        "#         batch_size=64,\n",
        "#         shuffle=True,\n",
        "#         seed=101,\n",
        "#         class_mode='categorical')\n",
        "\n",
        "history = model.fit_generator(\n",
        "        train_set,\n",
        "        epochs=20,\n",
        "        validation_data=test_set,\n",
        "        validation_steps=5)\n",
        "\n",
        "\n",
        "model.save_weights(\"/content/drive/My Drive/Leaf_Weights/Weights/strawberryweights.h5\")"
      ],
      "execution_count": 24,
      "outputs": [
        {
          "output_type": "stream",
          "text": [
            "Found 1129 images belonging to 2 classes.\n",
            "Found 312 images belonging to 2 classes.\n"
          ],
          "name": "stdout"
        },
        {
          "output_type": "stream",
          "text": [
            "/usr/local/lib/python3.7/dist-packages/tensorflow/python/keras/engine/training.py:1940: UserWarning: `Model.fit_generator` is deprecated and will be removed in a future version. Please use `Model.fit`, which supports generators.\n",
            "  warnings.warn('`Model.fit_generator` is deprecated and '\n"
          ],
          "name": "stderr"
        },
        {
          "output_type": "stream",
          "text": [
            "Epoch 1/20\n",
            "18/18 [==============================] - 22s 1s/step - loss: 0.5049 - accuracy: 0.7741 - val_loss: 0.1105 - val_accuracy: 0.9744\n",
            "Epoch 2/20\n",
            "18/18 [==============================] - 18s 1s/step - loss: 0.3520 - accuracy: 0.8397 - val_loss: 0.0480 - val_accuracy: 0.9936\n",
            "Epoch 3/20\n",
            "18/18 [==============================] - 19s 1s/step - loss: 0.3372 - accuracy: 0.8450 - val_loss: 0.0371 - val_accuracy: 0.9968\n",
            "Epoch 4/20\n",
            "18/18 [==============================] - 19s 1s/step - loss: 0.3307 - accuracy: 0.8450 - val_loss: 0.0289 - val_accuracy: 0.9936\n",
            "Epoch 5/20\n",
            "18/18 [==============================] - 19s 1s/step - loss: 0.3317 - accuracy: 0.8432 - val_loss: 0.0269 - val_accuracy: 0.9968\n",
            "Epoch 6/20\n",
            "18/18 [==============================] - 19s 1s/step - loss: 0.3369 - accuracy: 0.8441 - val_loss: 0.0207 - val_accuracy: 0.9968\n",
            "Epoch 7/20\n",
            "18/18 [==============================] - 18s 1s/step - loss: 0.3209 - accuracy: 0.8468 - val_loss: 0.0190 - val_accuracy: 0.9936\n",
            "Epoch 8/20\n",
            "18/18 [==============================] - 18s 1s/step - loss: 0.3339 - accuracy: 0.8423 - val_loss: 0.0172 - val_accuracy: 0.9968\n",
            "Epoch 9/20\n",
            "18/18 [==============================] - 19s 1s/step - loss: 0.3329 - accuracy: 0.8397 - val_loss: 0.0111 - val_accuracy: 1.0000\n",
            "Epoch 10/20\n",
            "18/18 [==============================] - 18s 1s/step - loss: 0.3212 - accuracy: 0.8530 - val_loss: 0.0127 - val_accuracy: 1.0000\n",
            "Epoch 11/20\n",
            "18/18 [==============================] - 18s 1s/step - loss: 0.3271 - accuracy: 0.8459 - val_loss: 0.0075 - val_accuracy: 0.9968\n",
            "Epoch 12/20\n",
            "18/18 [==============================] - 19s 1s/step - loss: 0.3213 - accuracy: 0.8494 - val_loss: 0.0090 - val_accuracy: 1.0000\n",
            "Epoch 13/20\n",
            "18/18 [==============================] - 19s 1s/step - loss: 0.3131 - accuracy: 0.8609 - val_loss: 0.0087 - val_accuracy: 0.9968\n",
            "Epoch 14/20\n",
            "18/18 [==============================] - 18s 1s/step - loss: 0.3330 - accuracy: 0.8485 - val_loss: 0.0070 - val_accuracy: 1.0000\n",
            "Epoch 15/20\n",
            "18/18 [==============================] - 18s 1s/step - loss: 0.3138 - accuracy: 0.8485 - val_loss: 0.0057 - val_accuracy: 1.0000\n",
            "Epoch 16/20\n",
            "18/18 [==============================] - 19s 1s/step - loss: 0.3228 - accuracy: 0.8512 - val_loss: 0.0056 - val_accuracy: 1.0000\n",
            "Epoch 17/20\n",
            "18/18 [==============================] - 18s 1s/step - loss: 0.3056 - accuracy: 0.8601 - val_loss: 0.0067 - val_accuracy: 1.0000\n",
            "Epoch 18/20\n",
            "18/18 [==============================] - 18s 995ms/step - loss: 0.3241 - accuracy: 0.8494 - val_loss: 0.0062 - val_accuracy: 1.0000\n",
            "Epoch 19/20\n",
            "18/18 [==============================] - 18s 1s/step - loss: 0.3052 - accuracy: 0.8565 - val_loss: 0.0039 - val_accuracy: 1.0000\n",
            "Epoch 20/20\n",
            "18/18 [==============================] - 19s 1s/step - loss: 0.3050 - accuracy: 0.8618 - val_loss: 0.0045 - val_accuracy: 1.0000\n"
          ],
          "name": "stdout"
        }
      ]
    },
    {
      "cell_type": "markdown",
      "metadata": {
        "id": "3k26YDSTbU0R"
      },
      "source": [
        "Rebuilding the network"
      ]
    },
    {
      "cell_type": "code",
      "metadata": {
        "id": "3KSdfT7JbU0S"
      },
      "source": [
        "# TOMATO\n",
        "\n",
        "NUM_CLASSES = 10\n",
        "\n",
        "RESNET50_POOLING_AVERAGE = 'avg'\n",
        "DENSE_LAYER_ACTIVATION = 'softmax'\n",
        "OBJECTIVE_FUNCTION = 'categorical_crossentropy'\n",
        "\n",
        "# Common accuracy metric for all outputs, but can use different metrics for different output\n",
        "LOSS_METRICS = ['accuracy']\n",
        "\n",
        "\n",
        "model = Sequential()\n",
        "\n",
        "# 1st layer as the lumpsum weights from resnet50_weights_tf_dim_ordering_tf_kernels_notop.h5\n",
        "# NOTE that this layer will be set below as NOT TRAINABLE, i.e., use it as is\n",
        "model.add(ResNet50(include_top = False, pooling = RESNET50_POOLING_AVERAGE, weights = 'imagenet'))\n",
        "\n",
        "#model.add(Dense(512, activation = DENSE_LAYER_ACTIVATION))\n",
        "\n",
        "# 2nd layer as Dense for 10-class classification\n",
        "model.add(Dense(NUM_CLASSES, activation = DENSE_LAYER_ACTIVATION))\n",
        "\n",
        "# Say not to train first layer (ResNet) model as it is already trained\n",
        "model.layers[0].trainable = False\n",
        "\n",
        "#compiling\n",
        "model.compile(optimizer = 'adam', loss = OBJECTIVE_FUNCTION, metrics = LOSS_METRICS)\n"
      ],
      "execution_count": 25,
      "outputs": []
    },
    {
      "cell_type": "code",
      "metadata": {
        "id": "6dDP9NVnbU0S",
        "colab": {
          "base_uri": "https://localhost:8080/"
        },
        "outputId": "3e9a76a3-58c3-4673-a0fe-a3a76d1eb361"
      },
      "source": [
        "model.summary()"
      ],
      "execution_count": 26,
      "outputs": [
        {
          "output_type": "stream",
          "text": [
            "Model: \"sequential_7\"\n",
            "_________________________________________________________________\n",
            "Layer (type)                 Output Shape              Param #   \n",
            "=================================================================\n",
            "resnet50 (Functional)        (None, 2048)              23587712  \n",
            "_________________________________________________________________\n",
            "dense_7 (Dense)              (None, 10)                20490     \n",
            "=================================================================\n",
            "Total params: 23,608,202\n",
            "Trainable params: 20,490\n",
            "Non-trainable params: 23,587,712\n",
            "_________________________________________________________________\n"
          ],
          "name": "stdout"
        }
      ]
    },
    {
      "cell_type": "code",
      "metadata": {
        "id": "jkY1kbxpbU0T",
        "colab": {
          "base_uri": "https://localhost:8080/"
        },
        "outputId": "9ab6b222-0443-4b3e-af2f-fa674f38e8d8"
      },
      "source": [
        "from keras.preprocessing.image import ImageDataGenerator\n",
        "\n",
        "train_datagen = ImageDataGenerator(\n",
        "    rotation_range = 270,\n",
        "    brightness_range = (-2,2),\n",
        "        shear_range=0.2,\n",
        "        zoom_range=0.3,\n",
        "    vertical_flip=True,\n",
        "    validation_split=0.3,\n",
        "        horizontal_flip=True)\n",
        "\n",
        "test_datagen = ImageDataGenerator(vertical_flip=True,\n",
        "                                 horizontal_flip=True,\n",
        "                                 rotation_range=180,\n",
        "                                 zoom_range=0.2)\n",
        "\n",
        "val_datagen = ImageDataGenerator(vertical_flip=True,\n",
        "                                 horizontal_flip=True,\n",
        "                                 rotation_range=180,\n",
        "                                 zoom_range=0.2)\n",
        "\n",
        "train_set = train_datagen.flow_from_directory(\n",
        "        'yolo_dataset/tomato/train/',\n",
        "        target_size=(224,224),\n",
        "        batch_size=64,\n",
        "        seed=101, \n",
        "        shuffle=True,\n",
        "        class_mode='categorical')\n",
        "\n",
        "test_set = test_datagen.flow_from_directory(\n",
        "        'yolo_dataset/tomato/test/',\n",
        "        target_size=(224, 224),\n",
        "        batch_size=64,\n",
        "        shuffle=True,\n",
        "        seed=101,\n",
        "        class_mode='categorical')\n",
        "\n",
        "# val_set = val_datagen.flow_from_directory(\n",
        "#         'yolo_dataset/pepper/val/',\n",
        "#         target_size=(224, 224),\n",
        "#         batch_size=64,\n",
        "#         shuffle=True,\n",
        "#         seed=101,\n",
        "#         class_mode='categorical')\n",
        "\n",
        "history = model.fit_generator(\n",
        "        train_set,\n",
        "        epochs=15,\n",
        "        validation_data=test_set,\n",
        "        validation_steps=57)\n",
        "\n",
        "\n",
        "model.save_weights(\"/content/drive/My Drive/Leaf_Weights/Weights/tomatoweights.h5\")"
      ],
      "execution_count": 27,
      "outputs": [
        {
          "output_type": "stream",
          "text": [
            "Found 14531 images belonging to 10 classes.\n",
            "Found 3628 images belonging to 10 classes.\n"
          ],
          "name": "stdout"
        },
        {
          "output_type": "stream",
          "text": [
            "/usr/local/lib/python3.7/dist-packages/tensorflow/python/keras/engine/training.py:1940: UserWarning: `Model.fit_generator` is deprecated and will be removed in a future version. Please use `Model.fit`, which supports generators.\n",
            "  warnings.warn('`Model.fit_generator` is deprecated and '\n"
          ],
          "name": "stderr"
        },
        {
          "output_type": "stream",
          "text": [
            "Epoch 1/15\n",
            "228/228 [==============================] - 233s 1s/step - loss: 1.6128 - accuracy: 0.4642 - val_loss: 0.6060 - val_accuracy: 0.8054\n",
            "Epoch 2/15\n",
            "228/228 [==============================] - 229s 1s/step - loss: 1.4006 - accuracy: 0.5313 - val_loss: 0.4430 - val_accuracy: 0.8597\n",
            "Epoch 3/15\n",
            "228/228 [==============================] - 229s 1s/step - loss: 1.3234 - accuracy: 0.5600 - val_loss: 0.3965 - val_accuracy: 0.8735\n",
            "Epoch 4/15\n",
            "228/228 [==============================] - 228s 1s/step - loss: 1.3098 - accuracy: 0.5623 - val_loss: 0.3659 - val_accuracy: 0.8842\n",
            "Epoch 5/15\n",
            "228/228 [==============================] - 228s 1s/step - loss: 1.3071 - accuracy: 0.5599 - val_loss: 0.3489 - val_accuracy: 0.8840\n",
            "Epoch 6/15\n",
            "228/228 [==============================] - 228s 1s/step - loss: 1.2938 - accuracy: 0.5684 - val_loss: 0.3164 - val_accuracy: 0.9027\n",
            "Epoch 7/15\n",
            "228/228 [==============================] - 228s 1s/step - loss: 1.2824 - accuracy: 0.5718 - val_loss: 0.3404 - val_accuracy: 0.8886\n",
            "Epoch 8/15\n",
            "228/228 [==============================] - 227s 996ms/step - loss: 1.2788 - accuracy: 0.5744 - val_loss: 0.2836 - val_accuracy: 0.9063\n",
            "Epoch 9/15\n",
            "228/228 [==============================] - 228s 1s/step - loss: 1.2671 - accuracy: 0.5768 - val_loss: 0.2841 - val_accuracy: 0.9096\n",
            "Epoch 10/15\n",
            "228/228 [==============================] - 228s 1s/step - loss: 1.2571 - accuracy: 0.5821 - val_loss: 0.2621 - val_accuracy: 0.9140\n",
            "Epoch 11/15\n",
            "228/228 [==============================] - 226s 993ms/step - loss: 1.2621 - accuracy: 0.5796 - val_loss: 0.2555 - val_accuracy: 0.9148\n",
            "Epoch 12/15\n",
            "228/228 [==============================] - 229s 1s/step - loss: 1.2580 - accuracy: 0.5812 - val_loss: 0.2662 - val_accuracy: 0.9115\n",
            "Epoch 13/15\n",
            "228/228 [==============================] - 228s 999ms/step - loss: 1.2630 - accuracy: 0.5780 - val_loss: 0.2680 - val_accuracy: 0.9129\n",
            "Epoch 14/15\n",
            "228/228 [==============================] - 228s 1000ms/step - loss: 1.2445 - accuracy: 0.5852 - val_loss: 0.2739 - val_accuracy: 0.9132\n",
            "Epoch 15/15\n",
            "228/228 [==============================] - 228s 999ms/step - loss: 1.2415 - accuracy: 0.5862 - val_loss: 0.2416 - val_accuracy: 0.9259\n"
          ],
          "name": "stdout"
        }
      ]
    },
    {
      "cell_type": "code",
      "metadata": {
        "id": "LM41_y1ExGTU",
        "colab": {
          "base_uri": "https://localhost:8080/"
        },
        "outputId": "a7535621-6cc5-4436-f611-79a224b2be3e"
      },
      "source": [
        "scores = model.evaluate_generator(generator=test_set)\n",
        "print(\"%s: %.2f%%\" % (model.metrics_names[1], scores[1]*100))"
      ],
      "execution_count": 28,
      "outputs": [
        {
          "output_type": "stream",
          "text": [
            "/usr/local/lib/python3.7/dist-packages/tensorflow/python/keras/engine/training.py:1973: UserWarning: `Model.evaluate_generator` is deprecated and will be removed in a future version. Please use `Model.evaluate`, which supports generators.\n",
            "  warnings.warn('`Model.evaluate_generator` is deprecated and '\n"
          ],
          "name": "stderr"
        },
        {
          "output_type": "stream",
          "text": [
            "accuracy: 92.12%\n"
          ],
          "name": "stdout"
        }
      ]
    },
    {
      "cell_type": "code",
      "metadata": {
        "colab": {
          "base_uri": "https://localhost:8080/"
        },
        "id": "TSeM6Z6pvCx8",
        "outputId": "758bdd50-124e-4e39-d671-0d300364d9eb"
      },
      "source": [
        "scores"
      ],
      "execution_count": 29,
      "outputs": [
        {
          "output_type": "execute_result",
          "data": {
            "text/plain": [
              "[0.23910745978355408, 0.9211686849594116]"
            ]
          },
          "metadata": {
            "tags": []
          },
          "execution_count": 29
        }
      ]
    },
    {
      "cell_type": "code",
      "metadata": {
        "colab": {
          "base_uri": "https://localhost:8080/"
        },
        "id": "vvhDbefVvKM9",
        "outputId": "839439ce-b829-4635-9fb3-fcd9258ff869"
      },
      "source": [
        "model.metrics_names"
      ],
      "execution_count": 30,
      "outputs": [
        {
          "output_type": "execute_result",
          "data": {
            "text/plain": [
              "['loss', 'accuracy']"
            ]
          },
          "metadata": {
            "tags": []
          },
          "execution_count": 30
        }
      ]
    },
    {
      "cell_type": "code",
      "metadata": {
        "colab": {
          "base_uri": "https://localhost:8080/"
        },
        "id": "jEQ8vG-1vxdT",
        "outputId": "1d32f043-dce3-4113-cdda-55c0bef8e7bb"
      },
      "source": [
        "history.history"
      ],
      "execution_count": 31,
      "outputs": [
        {
          "output_type": "execute_result",
          "data": {
            "text/plain": [
              "{'accuracy': [0.4642488360404968,\n",
              "  0.5313467979431152,\n",
              "  0.5599752068519592,\n",
              "  0.562315046787262,\n",
              "  0.5599064230918884,\n",
              "  0.5684399008750916,\n",
              "  0.5718119740486145,\n",
              "  0.5743582844734192,\n",
              "  0.5767669081687927,\n",
              "  0.5820659399032593,\n",
              "  0.5795884728431702,\n",
              "  0.5812401175498962,\n",
              "  0.5780056715011597,\n",
              "  0.5851627588272095,\n",
              "  0.5861950516700745],\n",
              " 'loss': [1.6128222942352295,\n",
              "  1.4005721807479858,\n",
              "  1.3233790397644043,\n",
              "  1.3098342418670654,\n",
              "  1.3070740699768066,\n",
              "  1.2938200235366821,\n",
              "  1.2823655605316162,\n",
              "  1.2787569761276245,\n",
              "  1.2671267986297607,\n",
              "  1.2571214437484741,\n",
              "  1.2621090412139893,\n",
              "  1.2580336332321167,\n",
              "  1.2629936933517456,\n",
              "  1.2444589138031006,\n",
              "  1.2414859533309937],\n",
              " 'val_accuracy': [0.805402398109436,\n",
              "  0.8597022891044617,\n",
              "  0.8734840154647827,\n",
              "  0.8842337131500244,\n",
              "  0.883958101272583,\n",
              "  0.902701199054718,\n",
              "  0.8886438608169556,\n",
              "  0.9062844514846802,\n",
              "  0.9095920324325562,\n",
              "  0.9140021800994873,\n",
              "  0.9148291349411011,\n",
              "  0.9115214943885803,\n",
              "  0.9128996729850769,\n",
              "  0.9131752848625183,\n",
              "  0.9258544445037842],\n",
              " 'val_loss': [0.6059871912002563,\n",
              "  0.4430210590362549,\n",
              "  0.3965394198894501,\n",
              "  0.36593812704086304,\n",
              "  0.34890589118003845,\n",
              "  0.31641682982444763,\n",
              "  0.3404493033885956,\n",
              "  0.283555805683136,\n",
              "  0.2840811014175415,\n",
              "  0.2620806396007538,\n",
              "  0.2555235028266907,\n",
              "  0.2662336826324463,\n",
              "  0.2680135667324066,\n",
              "  0.27391523122787476,\n",
              "  0.24155868589878082]}"
            ]
          },
          "metadata": {
            "tags": []
          },
          "execution_count": 31
        }
      ]
    },
    {
      "cell_type": "code",
      "metadata": {
        "id": "_dj8uaf1h--d",
        "colab": {
          "base_uri": "https://localhost:8080/",
          "height": 231
        },
        "outputId": "38c2929b-858e-449a-d219-f6d31e7e987f"
      },
      "source": [
        "plt.figure(1, figsize = (15,8)) \n",
        "    \n",
        "plt.subplot(221)  \n",
        "plt.plot(history.history['accuracy'])  \n",
        "plt.plot(history.history['val_accuracy'])  \n",
        "plt.title('Tomato model accuracy')  \n",
        "plt.ylabel('accuracy')  \n",
        "plt.xlabel('epoch')  \n",
        "plt.legend(['train', 'valid']) \n",
        "    \n",
        "plt.subplot(222)  \n",
        "plt.plot(history.history['loss'])  \n",
        "plt.plot(history.history['val_loss'])  \n",
        "plt.title('Tomato model loss')  \n",
        "plt.ylabel('loss')  \n",
        "plt.xlabel('epoch')  \n",
        "plt.legend(['train', 'valid']) \n",
        "\n",
        "plt.show()"
      ],
      "execution_count": 32,
      "outputs": [
        {
          "output_type": "display_data",
          "data": {
            "image/png": "[encoded data removed]",
            "text/plain": [
              "<Figure size 1080x576 with 2 Axes>"
            ]
          },
          "metadata": {
            "tags": [],
            "needs_background": "light"
          }
        }
      ]
    }
  ]
}